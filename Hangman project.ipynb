{
 "cells": [
  {
   "cell_type": "markdown",
   "id": "28da4374",
   "metadata": {},
   "source": [
    "### Marked Tutorial 2"
   ]
  },
  {
   "cell_type": "markdown",
   "id": "5f94cba2",
   "metadata": {},
   "source": [
    "Read a list of words from a file and store it in an appropriate data structure. The file should contain only one word per line.\n",
    "\n",
    "Your file handling code should be covered by appropriate exception handling clauses.(15 marks)"
   ]
  },
  {
   "cell_type": "code",
   "execution_count": 11,
   "id": "3221e776",
   "metadata": {},
   "outputs": [],
   "source": [
    "# Create a file with words\n",
    "# The actual game with no graphics\n",
    "# Text based graphics\n",
    "\n",
    "import random\n",
    "\n",
    "\n"
   ]
  },
  {
   "cell_type": "code",
   "execution_count": 13,
   "id": "4e770366",
   "metadata": {},
   "outputs": [
    {
     "name": "stdout",
     "output_type": "stream",
     "text": [
      "Guess one letter in the word\n",
      "The word is:  _ _ _ _ _ _ _ _ _ \n",
      "Your score is \n",
      "The word is:  addictive\n"
     ]
    }
   ],
   "source": [
    "length_of_word = len(word)\n",
    "\n",
    "mock_word = \"_ \" * length_of_word\n",
    "\n",
    "def guess(letter, word, encoded):\n",
    "    # Does the letter exist in the word\n",
    "    \n",
    "\n",
    "print('Guess one letter in the word')\n",
    "print('The word is: ', mock_word)\n",
    "\n",
    "print('Your score is ')\n",
    "print('The word is: ', word)"
   ]
  },
  {
   "cell_type": "markdown",
   "id": "aadf4598",
   "metadata": {},
   "source": [
    "Select one word at random from the list and assign it to a variable. (10 marks)"
   ]
  },
  {
   "cell_type": "code",
   "execution_count": null,
   "id": "c8400dd1",
   "metadata": {},
   "outputs": [],
   "source": [
    "# Key variables\n",
    "letters = [] # List of letters guessed by the user\n",
    "guesses = 0 # Number of guesses \n",
    "found = False # Keep track of ir they found the word\n"
   ]
  },
  {
   "cell_type": "markdown",
   "id": "95adb446",
   "metadata": {},
   "source": [
    "Replace the alphabetic characters in the variable created in step b) with underscores (_) and assign the result to another variable. (10 marks)"
   ]
  },
  {
   "cell_type": "code",
   "execution_count": null,
   "id": "c1de8515",
   "metadata": {},
   "outputs": [],
   "source": []
  }
 ],
 "metadata": {
  "kernelspec": {
   "display_name": "Python 3",
   "language": "python",
   "name": "python3"
  },
  "language_info": {
   "codemirror_mode": {
    "name": "ipython",
    "version": 3
   },
   "file_extension": ".py",
   "mimetype": "text/x-python",
   "name": "python",
   "nbconvert_exporter": "python",
   "pygments_lexer": "ipython3",
   "version": "3.8.8"
  }
 },
 "nbformat": 4,
 "nbformat_minor": 5
}
