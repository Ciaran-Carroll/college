{
 "cells": [
  {
   "cell_type": "markdown",
   "id": "d83356e0",
   "metadata": {},
   "source": [
    "# Multiple Linear Regression with Ethereum Stock Price"
   ]
  },
  {
   "cell_type": "markdown",
   "id": "0a935cac",
   "metadata": {},
   "source": [
    "Building and evaluating a multiple regression model."
   ]
  },
  {
   "cell_type": "markdown",
   "id": "b478f7d3",
   "metadata": {},
   "source": [
    "Predicting price of Ethereum using Multiple Linear Regression\n",
    "\n",
    "In this project will attempt to predicting price of Ethereum using Multiple Linear Regression\n",
    "\n",
    "The Overall Aim of the Priject:\n",
    "- Finding a suitable dataset to implement a Multiple LInear Regression Model.\n",
    "- Explaining the dataset, including source\n",
    "- Make clear statments fo the objections of anaylsis including the null hypothesis and alternative hypothesis\n",
    "- Visualisomg the dataset\n",
    "- Assessing the models equation\n",
    "- Visualise the model\n",
    "- Evaluating the model\n",
    "- Furthermore Validate our results using a validation set\n",
    "- Conclusion of project"
   ]
  },
  {
   "cell_type": "markdown",
   "id": "13438764",
   "metadata": {},
   "source": [
    "### Introduction/Relavance of project"
   ]
  },
  {
   "cell_type": "markdown",
   "id": "f58650be",
   "metadata": {},
   "source": [
    "### Dataset\n",
    "\n",
    "Start date: 2016-03-10\n",
    "End date:   2021-08-24\n",
    "\n",
    "\n",
    "Link to [dataset](https://www.kaggle.com/odins0n/top-50-cryptocurrencies-historical-prices-starter/data?select=Ethereum.csv)\n",
    "\n",
    "Obtained from investing.com\n",
    "\n",
    "INclude a validation set from the same data source "
   ]
  },
  {
   "cell_type": "markdown",
   "id": "97a62ebc",
   "metadata": {},
   "source": [
    "The dataset contains:\n",
    "- 'Date' - Date of the cypto prices in NY EST Standard Time\n",
    "- 'Price' - Price of Ethereum (in U.S. Dollers)\n",
    "- 'Open' - Opening Price of Ethereum on the respective date\n",
    "- 'High' - Highest Price of Ethereum on the respective date\n",
    "- 'Low' - Lowest Price of Ethereum on the respective date\n",
    "- 'Vol.' - Volume of Ethereum transacted on the respective date\n",
    "- 'Change' - Percentage of Change in Ethereum Prices on the respective date"
   ]
  },
  {
   "cell_type": "markdown",
   "id": "3de81f67",
   "metadata": {},
   "source": [
    "### Hypothesis\n",
    "\n",
    "Null and alternative hypothesis\n",
    "\n",
    "$H_0$: The 'Price' of the crypotocurrency Ethereum at any given day cannot be predicted by the 'Open', 'High' and 'Low' variables from our dataset for that day. The variables refer to the Opening Price, Highest Price and Lowest Price of Ethereum on that day.\n",
    "\n",
    "$H_A$: The 'Price' of the crypotocurrency Ethereum at any given day cannot be predicted by the 'Open', 'High' and 'Low' variables from our dataset for that day. \n",
    "\n"
   ]
  },
  {
   "cell_type": "code",
   "execution_count": 3,
   "id": "bda8e2ef",
   "metadata": {},
   "outputs": [
    {
     "data": {
      "text/html": [
       "<div>\n",
       "<style scoped>\n",
       "    .dataframe tbody tr th:only-of-type {\n",
       "        vertical-align: middle;\n",
       "    }\n",
       "\n",
       "    .dataframe tbody tr th {\n",
       "        vertical-align: top;\n",
       "    }\n",
       "\n",
       "    .dataframe thead th {\n",
       "        text-align: right;\n",
       "    }\n",
       "</style>\n",
       "<table border=\"1\" class=\"dataframe\">\n",
       "  <thead>\n",
       "    <tr style=\"text-align: right;\">\n",
       "      <th></th>\n",
       "      <th>Date</th>\n",
       "      <th>Price</th>\n",
       "      <th>Open</th>\n",
       "      <th>High</th>\n",
       "      <th>Low</th>\n",
       "      <th>Vol.</th>\n",
       "      <th>Change %</th>\n",
       "    </tr>\n",
       "    <tr>\n",
       "      <th>SNo</th>\n",
       "      <th></th>\n",
       "      <th></th>\n",
       "      <th></th>\n",
       "      <th></th>\n",
       "      <th></th>\n",
       "      <th></th>\n",
       "      <th></th>\n",
       "    </tr>\n",
       "  </thead>\n",
       "  <tbody>\n",
       "    <tr>\n",
       "      <th>1</th>\n",
       "      <td>2016-03-10</td>\n",
       "      <td>11.75</td>\n",
       "      <td>11.20</td>\n",
       "      <td>11.85</td>\n",
       "      <td>11.07</td>\n",
       "      <td>0.0</td>\n",
       "      <td>4.91</td>\n",
       "    </tr>\n",
       "    <tr>\n",
       "      <th>2</th>\n",
       "      <td>2016-03-11</td>\n",
       "      <td>11.95</td>\n",
       "      <td>11.75</td>\n",
       "      <td>11.95</td>\n",
       "      <td>11.75</td>\n",
       "      <td>180.0</td>\n",
       "      <td>1.70</td>\n",
       "    </tr>\n",
       "    <tr>\n",
       "      <th>3</th>\n",
       "      <td>2016-03-12</td>\n",
       "      <td>12.92</td>\n",
       "      <td>11.95</td>\n",
       "      <td>13.45</td>\n",
       "      <td>11.95</td>\n",
       "      <td>830.0</td>\n",
       "      <td>8.12</td>\n",
       "    </tr>\n",
       "    <tr>\n",
       "      <th>4</th>\n",
       "      <td>2016-03-13</td>\n",
       "      <td>15.07</td>\n",
       "      <td>12.92</td>\n",
       "      <td>15.07</td>\n",
       "      <td>12.92</td>\n",
       "      <td>1300.0</td>\n",
       "      <td>16.64</td>\n",
       "    </tr>\n",
       "    <tr>\n",
       "      <th>5</th>\n",
       "      <td>2016-03-14</td>\n",
       "      <td>12.50</td>\n",
       "      <td>15.07</td>\n",
       "      <td>15.07</td>\n",
       "      <td>11.40</td>\n",
       "      <td>92180.0</td>\n",
       "      <td>-17.05</td>\n",
       "    </tr>\n",
       "  </tbody>\n",
       "</table>\n",
       "</div>"
      ],
      "text/plain": [
       "           Date  Price   Open   High    Low     Vol.  Change %\n",
       "SNo                                                           \n",
       "1    2016-03-10  11.75  11.20  11.85  11.07      0.0      4.91\n",
       "2    2016-03-11  11.95  11.75  11.95  11.75    180.0      1.70\n",
       "3    2016-03-12  12.92  11.95  13.45  11.95    830.0      8.12\n",
       "4    2016-03-13  15.07  12.92  15.07  12.92   1300.0     16.64\n",
       "5    2016-03-14  12.50  15.07  15.07  11.40  92180.0    -17.05"
      ]
     },
     "execution_count": 3,
     "metadata": {},
     "output_type": "execute_result"
    }
   ],
   "source": [
    "import pandas as pd\n",
    "\n",
    "# Loads the 'Ethereum_Price_History_USD.csv' file as a DataFrame, using the \n",
    "# 'SNo' as the index column\n",
    "Eth_Price_Data = pd.read_csv('Ethereum_Price_History_USD.csv', index_col='SNo')\n",
    "\n",
    "# Show us the first 5 Rows in the 'Eth_Price_Data' DataFrame\n",
    "Eth_Price_Data.head()"
   ]
  },
  {
   "cell_type": "code",
   "execution_count": 4,
   "id": "45540006",
   "metadata": {},
   "outputs": [
    {
     "name": "stdout",
     "output_type": "stream",
     "text": [
      "Number of the days of Ethereum prices contained in the dataset: \n",
      " 1994 days\n"
     ]
    }
   ],
   "source": [
    "print('Number of the days of Ethereum prices contained in the dataset: \\n', len(Eth_Price_Data['Date']), 'days' )"
   ]
  },
  {
   "cell_type": "markdown",
   "id": "cfe47bdf",
   "metadata": {},
   "source": [
    "## Visualising the dataset"
   ]
  },
  {
   "cell_type": "code",
   "execution_count": 3,
   "id": "f82b4130",
   "metadata": {},
   "outputs": [
    {
     "data": {
      "image/png": "[encoded data removed]",
      "text/plain": [
       "<Figure size 432x288 with 1 Axes>"
      ]
     },
     "metadata": {
      "needs_background": "light"
     },
     "output_type": "display_data"
    }
   ],
   "source": [
    "from matplotlib import pyplot as plt\n",
    "\n",
    "## Styling the plots for the project\n",
    "plt.style.use(style=\"seaborn\")\n",
    "%matplotlib inline\n",
    "\n",
    "# Creates a new DataFrame for plotting the Ethereum price history purposes \n",
    "# only containing only the 'Date' and 'Price' Variables as it doesn't\n",
    "# affect the original dataset\n",
    "Plot_Eth_Price = pd.DataFrame(Eth_Price_Data, columns = ['Date', 'Price'])\n",
    "\n",
    "# Creates a Variable 'Plot_Eth_Date' which contains the 'Date' variable only\n",
    "# We do this to edit the dates without changing the rest of the dataset\n",
    "Plot_Eth_Date = Plot_Eth_Price['Date']\n",
    "\n",
    "# Converts the content in the 'Plot_Eth_Date ' variable to datetime\n",
    "# This is needed for the 'autofmt_xdate()' function used to\n",
    "## make the plot more readable\n",
    "\n",
    "## Converts the content in the 'Plotting_Eth_Date' variable to \n",
    "## datetime. This is needed for the 'autofmt_xdate()' function \n",
    "## used to make the plot of the dataset more readable\n",
    "Plot_Eth_Date = pd.to_datetime(Plot_Eth_Date)\n",
    "\n",
    "plt.figure('Ethereum Price History')\n",
    "plt.title('Ethereum Price History on a daily basis')\n",
    "plt.xlabel('Date')\n",
    "plt.ylabel('Ethereum Price in U.S. Dollers')\n",
    "plt.grid(True)\n",
    "plt.plot(Plot_Eth_Date, Plot_Eth_Price['Price'], color = 'red')\n",
    "plt.gcf().autofmt_xdate()\n",
    "plt.savefig('Ethereum_Price_History.png')\n",
    "\n",
    "plt.show()"
   ]
  },
  {
   "cell_type": "code",
   "execution_count": 4,
   "id": "9bca7719",
   "metadata": {},
   "outputs": [],
   "source": [
    "# Creates a new DataFrame from the dataset that only contains the 'Price',\n",
    "# 'High', 'Low' and 'Open' Columns\n",
    "Eth_Price_Data = Eth_Price_Data[['Price', 'High', 'Low', 'Open']].dropna()\n",
    "\n",
    "\n",
    "# Split our new DataFrame above\n",
    "# 'data_X' will contain all the columns except the 'Price'\n",
    "# 'data_Y' will contain only the 'Price' column\n",
    "data_X = Eth_Price_Data.loc[:,Eth_Price_Data.columns !=  'Price' ]\n",
    "data_Y = Eth_Price_Data['Price']"
   ]
  },
  {
   "cell_type": "code",
   "execution_count": 5,
   "id": "9694792d",
   "metadata": {},
   "outputs": [],
   "source": [
    "from sklearn.model_selection import train_test_split\n",
    "\n",
    "# 'train_test_split' function splits the dataset into two parts: the training\n",
    "# set and the testing set\n",
    "# In this case, we are randomly putting 75% of the dataset into the training\n",
    "# set and the remaining 25% into our testing set.\n",
    "# The random nature in this process helps to vary the type of data in each set\n",
    "train_X, test_X, train_Y,test_Y = train_test_split(data_X, data_Y, test_size=0.25)"
   ]
  },
  {
   "cell_type": "code",
   "execution_count": 6,
   "id": "8d94fdf7",
   "metadata": {},
   "outputs": [
    {
     "data": {
      "text/plain": [
       "LinearRegression()"
      ]
     },
     "execution_count": 6,
     "metadata": {},
     "output_type": "execute_result"
    }
   ],
   "source": [
    "from sklearn.linear_model import LinearRegression\n",
    "\n",
    "# Creates a Linear Regressor model object and subsequently trains \n",
    "# our algroithm with our training set with the fit() method\n",
    "regressor = LinearRegression()\n",
    "regressor.fit(train_X,train_Y)"
   ]
  },
  {
   "cell_type": "markdown",
   "id": "91a977ce",
   "metadata": {},
   "source": [
    "Our final linear regression model will be:\n",
    "\n",
    "$ price = \\beta_0  + \\beta_1 . High + \\beta_2 . Low + \\beta_3. Open$\n",
    "\n",
    "where\n",
    "\n",
    "$ \\beta_0 $ is the intercept\n",
    "\n",
    "and\n",
    "\n",
    "$ \\beta_1 $, $ \\beta_2 $ and $ \\beta_3 $ are the coefficients"
   ]
  },
  {
   "cell_type": "code",
   "execution_count": 12,
   "id": "aa871877",
   "metadata": {},
   "outputs": [
    {
     "name": "stdout",
     "output_type": "stream",
     "text": [
      "Prediction Score with our test set:  0.9992762751279761\n",
      "\n",
      "\n",
      "Mean Squared Error :  408.83138886900565\n",
      "\n",
      "\n",
      "Prediction Score with our training set:  0.9990938155131726\n",
      "\n",
      "\n",
      "Coefficients: \n",
      "\n",
      "[ 0.92590588  0.66427455 -0.59711037]\n",
      "\n",
      "\n",
      "Intercept:  0.8030002191404151\n",
      "test\n",
      "Mean Absolute Error:  8.816167238255424\n",
      "Root Mean Squared Error:  20.219579344511736\n"
     ]
    }
   ],
   "source": [
    "from sklearn.metrics import mean_squared_error, mean_absolute_error\n",
    "import numpy as np\n",
    "\n",
    "# Make Predictions and Evaluate the results\n",
    "# R2 Score\n",
    "predict_Y = regressor.predict(test_X)\n",
    "print('Prediction Score with our test set: ' , regressor.score(test_X,test_Y))\n",
    "\n",
    "print('\\n')\n",
    "\n",
    "# 'mean_error_'\n",
    "error = mean_squared_error(test_Y, predict_Y)\n",
    "print('Mean Squared Error : ',error)\n",
    "\n",
    "print('\\n')\n",
    "print('Prediction Score with our training set: ' , regressor.score(train_X,train_Y))\n",
    "print('\\n')\n",
    "print('Coefficients: \\n')\n",
    "print(regressor.coef_)\n",
    "\n",
    "print('\\n')\n",
    "print('Intercept: ', regressor.intercept_)\n",
    "\n",
    "print('test')\n",
    "meanAbError = mean_absolute_error(test_Y, predict_Y)\n",
    "print('Mean Absolute Error: ', meanAbError)\n",
    "print('Root Mean Squared Error: ', np.sqrt(error))\n",
    "\n",
    "# The accuracy score represents the coefficient of determination ( 𝑅2 ). This is at max 1, but can be negative. It will be 0 if you predict the mean of y for all observations.\n",
    "\n",
    "#The R Square is measure of how close the data are to the fitted regression line.\n",
    "\n",
    "#In this case we can say that our model explains 79% of the training data & 75% of the testing data\n",
    "\n",
    "#The RMSE is the standard deviation of the residuals. Residuals is the difference between the predicted value and the regression line. Hence RMSE is a measure of how spread your residuals are.\n",
    "\n",
    "#The mean absolute error (MAE) is the average of all the absolute errors. The absolute error is the difference between the true value (y_train) and the predicted value (y_pred).\n",
    "\n",
    "#Coeff are the weights\n",
    "\n",
    "#The intercept is the expected mean value of Y when all X=0"
   ]
  },
  {
   "cell_type": "markdown",
   "id": "e8786e01",
   "metadata": {},
   "source": [
    "R2 score is close to 1 which indicates that the model used is good."
   ]
  },
  {
   "cell_type": "markdown",
   "id": "dbed8a54",
   "metadata": {},
   "source": [
    "Both plots are done seperately because they overlap too similerly "
   ]
  },
  {
   "cell_type": "code",
   "execution_count": 13,
   "id": "d95d3c67",
   "metadata": {},
   "outputs": [
    {
     "data": {
      "image/png": "[encoded data removed]",
      "text/plain": [
       "<Figure size 432x288 with 1 Axes>"
      ]
     },
     "metadata": {
      "needs_background": "light"
     },
     "output_type": "display_data"
    }
   ],
   "source": [
    "#Plot the predicted and the expected values\n",
    "\n",
    "plt.title('Ethereum Stock: Open Price vs Closing Price')\n",
    "plt.xlabel('Open Price')\n",
    "plt.ylabel('Price')\n",
    "plt.grid(True)\n",
    "plt.plot(test_X['Open'],test_Y, color = 'green')\n",
    "plt.show()"
   ]
  },
  {
   "cell_type": "code",
   "execution_count": 14,
   "id": "84b5b595",
   "metadata": {},
   "outputs": [
    {
     "data": {
      "image/png": "[encoded data removed]",
      "text/plain": [
       "<Figure size 432x288 with 1 Axes>"
      ]
     },
     "metadata": {
      "needs_background": "light"
     },
     "output_type": "display_data"
    }
   ],
   "source": [
    "#Plot the predicted and the expected values\n",
    "\n",
    "plt.title('Ethereum Stock: Open Price vs Predicted Price')\n",
    "plt.xlabel('Open Price')\n",
    "plt.ylabel('Price')\n",
    "plt.grid(True)\n",
    "plt.plot(test_X['Open'], predict_Y, color = 'blue')\n",
    "plt.show()"
   ]
  },
  {
   "cell_type": "code",
   "execution_count": 15,
   "id": "8f40647e",
   "metadata": {},
   "outputs": [
    {
     "data": {
      "text/html": [
       "<div>\n",
       "<style scoped>\n",
       "    .dataframe tbody tr th:only-of-type {\n",
       "        vertical-align: middle;\n",
       "    }\n",
       "\n",
       "    .dataframe tbody tr th {\n",
       "        vertical-align: top;\n",
       "    }\n",
       "\n",
       "    .dataframe thead th {\n",
       "        text-align: right;\n",
       "    }\n",
       "</style>\n",
       "<table border=\"1\" class=\"dataframe\">\n",
       "  <thead>\n",
       "    <tr style=\"text-align: right;\">\n",
       "      <th></th>\n",
       "      <th>Actual Price</th>\n",
       "      <th>Predicted Price</th>\n",
       "      <th>Difference</th>\n",
       "    </tr>\n",
       "    <tr>\n",
       "      <th>SNo</th>\n",
       "      <th></th>\n",
       "      <th></th>\n",
       "      <th></th>\n",
       "    </tr>\n",
       "  </thead>\n",
       "  <tbody>\n",
       "    <tr>\n",
       "      <th>1367</th>\n",
       "      <td>148.89</td>\n",
       "      <td>147.960992</td>\n",
       "      <td>0.929008</td>\n",
       "    </tr>\n",
       "    <tr>\n",
       "      <th>1160</th>\n",
       "      <td>196.02</td>\n",
       "      <td>202.670853</td>\n",
       "      <td>-6.650853</td>\n",
       "    </tr>\n",
       "    <tr>\n",
       "      <th>543</th>\n",
       "      <td>350.63</td>\n",
       "      <td>354.004911</td>\n",
       "      <td>-3.374911</td>\n",
       "    </tr>\n",
       "    <tr>\n",
       "      <th>865</th>\n",
       "      <td>459.02</td>\n",
       "      <td>466.214655</td>\n",
       "      <td>-7.194655</td>\n",
       "    </tr>\n",
       "    <tr>\n",
       "      <th>695</th>\n",
       "      <td>920.85</td>\n",
       "      <td>852.750949</td>\n",
       "      <td>68.099051</td>\n",
       "    </tr>\n",
       "    <tr>\n",
       "      <th>...</th>\n",
       "      <td>...</td>\n",
       "      <td>...</td>\n",
       "      <td>...</td>\n",
       "    </tr>\n",
       "    <tr>\n",
       "      <th>1306</th>\n",
       "      <td>170.55</td>\n",
       "      <td>171.303507</td>\n",
       "      <td>-0.753507</td>\n",
       "    </tr>\n",
       "    <tr>\n",
       "      <th>1742</th>\n",
       "      <td>588.91</td>\n",
       "      <td>588.749016</td>\n",
       "      <td>0.160984</td>\n",
       "    </tr>\n",
       "    <tr>\n",
       "      <th>787</th>\n",
       "      <td>818.33</td>\n",
       "      <td>820.010120</td>\n",
       "      <td>-1.680120</td>\n",
       "    </tr>\n",
       "    <tr>\n",
       "      <th>73</th>\n",
       "      <td>14.00</td>\n",
       "      <td>14.287193</td>\n",
       "      <td>-0.287193</td>\n",
       "    </tr>\n",
       "    <tr>\n",
       "      <th>991</th>\n",
       "      <td>118.04</td>\n",
       "      <td>112.896257</td>\n",
       "      <td>5.143743</td>\n",
       "    </tr>\n",
       "  </tbody>\n",
       "</table>\n",
       "<p>499 rows × 3 columns</p>\n",
       "</div>"
      ],
      "text/plain": [
       "      Actual Price  Predicted Price  Difference\n",
       "SNo                                            \n",
       "1367        148.89       147.960992    0.929008\n",
       "1160        196.02       202.670853   -6.650853\n",
       "543         350.63       354.004911   -3.374911\n",
       "865         459.02       466.214655   -7.194655\n",
       "695         920.85       852.750949   68.099051\n",
       "...            ...              ...         ...\n",
       "1306        170.55       171.303507   -0.753507\n",
       "1742        588.91       588.749016    0.160984\n",
       "787         818.33       820.010120   -1.680120\n",
       "73           14.00        14.287193   -0.287193\n",
       "991         118.04       112.896257    5.143743\n",
       "\n",
       "[499 rows x 3 columns]"
      ]
     },
     "execution_count": 15,
     "metadata": {},
     "output_type": "execute_result"
    }
   ],
   "source": [
    "answer = pd.DataFrame({'Actual Price' :test_Y, 'Predicted Price' :predict_Y, 'Difference' :test_Y-predict_Y })\n",
    "\n",
    "answer"
   ]
  },
  {
   "cell_type": "markdown",
   "id": "1ec6770d",
   "metadata": {},
   "source": [
    "The model suggests that the high-price, low-price and open-price are indicative of the closing price of the same day. Based on the found coefficients, we conclude that the high-price is most influential on the closing price."
   ]
  },
  {
   "cell_type": "markdown",
   "id": "f4009465",
   "metadata": {},
   "source": [
    "-------------------------------------------------------"
   ]
  },
  {
   "cell_type": "markdown",
   "id": "c2d0a2d8",
   "metadata": {},
   "source": [
    "## Further testing of our model with a validation set"
   ]
  },
  {
   "cell_type": "code",
   "execution_count": 24,
   "id": "2c1534f7",
   "metadata": {},
   "outputs": [
    {
     "data": {
      "text/html": [
       "<div>\n",
       "<style scoped>\n",
       "    .dataframe tbody tr th:only-of-type {\n",
       "        vertical-align: middle;\n",
       "    }\n",
       "\n",
       "    .dataframe tbody tr th {\n",
       "        vertical-align: top;\n",
       "    }\n",
       "\n",
       "    .dataframe thead th {\n",
       "        text-align: right;\n",
       "    }\n",
       "</style>\n",
       "<table border=\"1\" class=\"dataframe\">\n",
       "  <thead>\n",
       "    <tr style=\"text-align: right;\">\n",
       "      <th></th>\n",
       "      <th>Date</th>\n",
       "      <th>Price</th>\n",
       "      <th>Open</th>\n",
       "      <th>High</th>\n",
       "      <th>Low</th>\n",
       "    </tr>\n",
       "    <tr>\n",
       "      <th>SNo</th>\n",
       "      <th></th>\n",
       "      <th></th>\n",
       "      <th></th>\n",
       "      <th></th>\n",
       "      <th></th>\n",
       "    </tr>\n",
       "  </thead>\n",
       "  <tbody>\n",
       "    <tr>\n",
       "      <th>1</th>\n",
       "      <td>2021-10-09</td>\n",
       "      <td>4735.07</td>\n",
       "      <td>4810.07</td>\n",
       "      <td>4837.59</td>\n",
       "      <td>4718.04</td>\n",
       "    </tr>\n",
       "    <tr>\n",
       "      <th>2</th>\n",
       "      <td>2021-10-08</td>\n",
       "      <td>4812.09</td>\n",
       "      <td>4619.65</td>\n",
       "      <td>4822.36</td>\n",
       "      <td>4619.65</td>\n",
       "    </tr>\n",
       "    <tr>\n",
       "      <th>3</th>\n",
       "      <td>2021-10-07</td>\n",
       "      <td>4620.55</td>\n",
       "      <td>4523.98</td>\n",
       "      <td>4640.92</td>\n",
       "      <td>4510.98</td>\n",
       "    </tr>\n",
       "    <tr>\n",
       "      <th>4</th>\n",
       "      <td>2021-10-06</td>\n",
       "      <td>4521.58</td>\n",
       "      <td>4482.65</td>\n",
       "      <td>4531.00</td>\n",
       "      <td>4334.97</td>\n",
       "    </tr>\n",
       "    <tr>\n",
       "      <th>5</th>\n",
       "      <td>2021-10-05</td>\n",
       "      <td>4486.24</td>\n",
       "      <td>4537.42</td>\n",
       "      <td>4570.90</td>\n",
       "      <td>4447.49</td>\n",
       "    </tr>\n",
       "    <tr>\n",
       "      <th>6</th>\n",
       "      <td>2021-10-04</td>\n",
       "      <td>4537.32</td>\n",
       "      <td>4604.68</td>\n",
       "      <td>4606.52</td>\n",
       "      <td>4426.62</td>\n",
       "    </tr>\n",
       "    <tr>\n",
       "      <th>7</th>\n",
       "      <td>2021-10-03</td>\n",
       "      <td>4607.19</td>\n",
       "      <td>4589.68</td>\n",
       "      <td>4664.91</td>\n",
       "      <td>4462.98</td>\n",
       "    </tr>\n",
       "    <tr>\n",
       "      <th>8</th>\n",
       "      <td>2021-10-02</td>\n",
       "      <td>4584.80</td>\n",
       "      <td>4322.50</td>\n",
       "      <td>4599.95</td>\n",
       "      <td>4288.69</td>\n",
       "    </tr>\n",
       "    <tr>\n",
       "      <th>9</th>\n",
       "      <td>2021-10-01</td>\n",
       "      <td>4324.63</td>\n",
       "      <td>4288.22</td>\n",
       "      <td>4377.32</td>\n",
       "      <td>4160.97</td>\n",
       "    </tr>\n",
       "    <tr>\n",
       "      <th>10</th>\n",
       "      <td>2021-09-31</td>\n",
       "      <td>4288.07</td>\n",
       "      <td>4322.74</td>\n",
       "      <td>4394.45</td>\n",
       "      <td>4179.02</td>\n",
       "    </tr>\n",
       "    <tr>\n",
       "      <th>11</th>\n",
       "      <td>2021-09-30</td>\n",
       "      <td>4325.65</td>\n",
       "      <td>4414.24</td>\n",
       "      <td>4426.85</td>\n",
       "      <td>4252.49</td>\n",
       "    </tr>\n",
       "    <tr>\n",
       "      <th>12</th>\n",
       "      <td>2021-09-29</td>\n",
       "      <td>4414.75</td>\n",
       "      <td>4288.69</td>\n",
       "      <td>4455.74</td>\n",
       "      <td>4271.71</td>\n",
       "    </tr>\n",
       "    <tr>\n",
       "      <th>13</th>\n",
       "      <td>2021-09-28</td>\n",
       "      <td>4287.32</td>\n",
       "      <td>3924.82</td>\n",
       "      <td>4293.15</td>\n",
       "      <td>3905.71</td>\n",
       "    </tr>\n",
       "    <tr>\n",
       "      <th>14</th>\n",
       "      <td>2021-09-27</td>\n",
       "      <td>3930.26</td>\n",
       "      <td>4132.17</td>\n",
       "      <td>4299.15</td>\n",
       "      <td>3930.26</td>\n",
       "    </tr>\n",
       "  </tbody>\n",
       "</table>\n",
       "</div>"
      ],
      "text/plain": [
       "           Date    Price     Open     High      Low\n",
       "SNo                                                \n",
       "1    2021-10-09  4735.07  4810.07  4837.59  4718.04\n",
       "2    2021-10-08  4812.09  4619.65  4822.36  4619.65\n",
       "3    2021-10-07  4620.55  4523.98  4640.92  4510.98\n",
       "4    2021-10-06  4521.58  4482.65  4531.00  4334.97\n",
       "5    2021-10-05  4486.24  4537.42  4570.90  4447.49\n",
       "6    2021-10-04  4537.32  4604.68  4606.52  4426.62\n",
       "7    2021-10-03  4607.19  4589.68  4664.91  4462.98\n",
       "8    2021-10-02  4584.80  4322.50  4599.95  4288.69\n",
       "9    2021-10-01  4324.63  4288.22  4377.32  4160.97\n",
       "10   2021-09-31  4288.07  4322.74  4394.45  4179.02\n",
       "11   2021-09-30  4325.65  4414.24  4426.85  4252.49\n",
       "12   2021-09-29  4414.75  4288.69  4455.74  4271.71\n",
       "13   2021-09-28  4287.32  3924.82  4293.15  3905.71\n",
       "14   2021-09-27  3930.26  4132.17  4299.15  3930.26"
      ]
     },
     "execution_count": 24,
     "metadata": {},
     "output_type": "execute_result"
    }
   ],
   "source": [
    "validation_set = pd.read_csv('Validation_set_for_ETH.csv', index_col='SNo')\n",
    "\n",
    "validation_set.head(15)"
   ]
  },
  {
   "cell_type": "code",
   "execution_count": 26,
   "id": "ec178c70",
   "metadata": {},
   "outputs": [
    {
     "data": {
      "text/html": [
       "<div>\n",
       "<style scoped>\n",
       "    .dataframe tbody tr th:only-of-type {\n",
       "        vertical-align: middle;\n",
       "    }\n",
       "\n",
       "    .dataframe tbody tr th {\n",
       "        vertical-align: top;\n",
       "    }\n",
       "\n",
       "    .dataframe thead th {\n",
       "        text-align: right;\n",
       "    }\n",
       "</style>\n",
       "<table border=\"1\" class=\"dataframe\">\n",
       "  <thead>\n",
       "    <tr style=\"text-align: right;\">\n",
       "      <th></th>\n",
       "      <th>Actual Value</th>\n",
       "      <th>Predicted Value</th>\n",
       "      <th>Difference</th>\n",
       "    </tr>\n",
       "    <tr>\n",
       "      <th>SNo</th>\n",
       "      <th></th>\n",
       "      <th></th>\n",
       "      <th></th>\n",
       "    </tr>\n",
       "  </thead>\n",
       "  <tbody>\n",
       "    <tr>\n",
       "      <th>1</th>\n",
       "      <td>4735.07</td>\n",
       "      <td>4755.709979</td>\n",
       "      <td>-20.639979</td>\n",
       "    </tr>\n",
       "    <tr>\n",
       "      <th>2</th>\n",
       "      <td>4812.09</td>\n",
       "      <td>4787.232683</td>\n",
       "      <td>24.857317</td>\n",
       "    </tr>\n",
       "    <tr>\n",
       "      <th>3</th>\n",
       "      <td>4620.55</td>\n",
       "      <td>4604.697960</td>\n",
       "      <td>15.852040</td>\n",
       "    </tr>\n",
       "    <tr>\n",
       "      <th>4</th>\n",
       "      <td>4521.58</td>\n",
       "      <td>4412.202295</td>\n",
       "      <td>109.377705</td>\n",
       "    </tr>\n",
       "    <tr>\n",
       "      <th>5</th>\n",
       "      <td>4486.24</td>\n",
       "      <td>4491.002457</td>\n",
       "      <td>-4.762457</td>\n",
       "    </tr>\n",
       "    <tr>\n",
       "      <th>6</th>\n",
       "      <td>4537.32</td>\n",
       "      <td>4471.120335</td>\n",
       "      <td>66.199665</td>\n",
       "    </tr>\n",
       "    <tr>\n",
       "      <th>7</th>\n",
       "      <td>4607.19</td>\n",
       "      <td>4557.240249</td>\n",
       "      <td>49.949751</td>\n",
       "    </tr>\n",
       "    <tr>\n",
       "      <th>8</th>\n",
       "      <td>4584.80</td>\n",
       "      <td>4537.682948</td>\n",
       "      <td>47.117052</td>\n",
       "    </tr>\n",
       "    <tr>\n",
       "      <th>9</th>\n",
       "      <td>4324.63</td>\n",
       "      <td>4269.358977</td>\n",
       "      <td>55.271023</td>\n",
       "    </tr>\n",
       "    <tr>\n",
       "      <th>10</th>\n",
       "      <td>4288.07</td>\n",
       "      <td>4276.972136</td>\n",
       "      <td>11.097864</td>\n",
       "    </tr>\n",
       "    <tr>\n",
       "      <th>11</th>\n",
       "      <td>4325.65</td>\n",
       "      <td>4302.032370</td>\n",
       "      <td>23.617630</td>\n",
       "    </tr>\n",
       "    <tr>\n",
       "      <th>12</th>\n",
       "      <td>4414.75</td>\n",
       "      <td>4413.730444</td>\n",
       "      <td>1.019556</td>\n",
       "    </tr>\n",
       "    <tr>\n",
       "      <th>13</th>\n",
       "      <td>4287.32</td>\n",
       "      <td>4234.653454</td>\n",
       "      <td>52.666546</td>\n",
       "    </tr>\n",
       "    <tr>\n",
       "      <th>14</th>\n",
       "      <td>3930.26</td>\n",
       "      <td>4136.417625</td>\n",
       "      <td>-206.157625</td>\n",
       "    </tr>\n",
       "  </tbody>\n",
       "</table>\n",
       "</div>"
      ],
      "text/plain": [
       "     Actual Value  Predicted Value  Difference\n",
       "SNo                                           \n",
       "1         4735.07      4755.709979  -20.639979\n",
       "2         4812.09      4787.232683   24.857317\n",
       "3         4620.55      4604.697960   15.852040\n",
       "4         4521.58      4412.202295  109.377705\n",
       "5         4486.24      4491.002457   -4.762457\n",
       "6         4537.32      4471.120335   66.199665\n",
       "7         4607.19      4557.240249   49.949751\n",
       "8         4584.80      4537.682948   47.117052\n",
       "9         4324.63      4269.358977   55.271023\n",
       "10        4288.07      4276.972136   11.097864\n",
       "11        4325.65      4302.032370   23.617630\n",
       "12        4414.75      4413.730444    1.019556\n",
       "13        4287.32      4234.653454   52.666546\n",
       "14        3930.26      4136.417625 -206.157625"
      ]
     },
     "execution_count": 26,
     "metadata": {},
     "output_type": "execute_result"
    }
   ],
   "source": [
    "validating_model = pd.DataFrame(validation_set[['High', 'Low', 'Open']])\n",
    "#tested_model.head()\n",
    "#print(tested_model)\n",
    "\n",
    "#test_model = \n",
    "\n",
    "valid_Y = regressor.predict(validating_model)\n",
    "\n",
    "valid_actual_Y = validation_set['Price']\n",
    "\n",
    "#print('predict_y')\n",
    "#print(predict_y)\n",
    "\n",
    "\n",
    "answer = pd.DataFrame({'Actual Price' :valid_actual_Y, 'Predicted Price' :valid_Y, 'Difference' :valid_actual_Y-valid_Y })\n",
    "\n",
    "answer"
   ]
  },
  {
   "cell_type": "code",
   "execution_count": 34,
   "id": "79f84b7b",
   "metadata": {},
   "outputs": [
    {
     "name": "stdout",
     "output_type": "stream",
     "text": [
      "Number of days of data in our validation set:  14\n",
      "Sum of the Differences between our Predicted Price and Acutal Price: \n",
      " 225.46608866832048\n",
      "Average Difference per day between our Predicted Price and Acutal Price: \n",
      " 16.10472061916575\n"
     ]
    }
   ],
   "source": [
    "print('Number of days of data in our validation set: ', len(validating_model['High']))\n",
    "\n",
    "\n",
    "print('Sum of the Differences between our Predicted Price and Acutal Price: \\n', sum(answer['Difference']))\n",
    "\n",
    "avg_diff = sum(answer['Difference']) / len(answer['Difference'])\n",
    "\n",
    "print('Average Difference per day between our Predicted Price and Acutal Price: \\n', avg_diff)"
   ]
  },
  {
   "cell_type": "markdown",
   "id": "a603e664",
   "metadata": {},
   "source": [
    "---------------------------------------------------------------------"
   ]
  },
  {
   "cell_type": "markdown",
   "id": "93639fe2",
   "metadata": {},
   "source": [
    "### Stolen Conclusion"
   ]
  },
  {
   "cell_type": "markdown",
   "id": "5f860fbd",
   "metadata": {},
   "source": [
    "Important to note is that the model has been created based on data that has been collected at the same moment in time. This means that the variables we have collected are published at the same time as the closing-price is. We believe that the model would also be able to give a rough estimate of what the closing-price will be based on the current high- and low-prices on a given day, however this has not been investigated. "
   ]
  },
  {
   "cell_type": "markdown",
   "id": "f5d974bf",
   "metadata": {},
   "source": [
    "Based on the model, we have an idea about which variables influence the closing-price of Bitcoin. With this knowledge, we can attempt to create similar models for other cryptocurrencies. It is important to note that we must not assume this model is a perfect fit for any cryptocurrency, it should merely serve as a starting point when designing models that describe the closing-price of other currencies.\n",
    "\n",
    "As a final reminder, the price of Bitcoin is likely not solely dependent on the variables we have mentioned here. As with any other product, market sentiment and a host of other variables are likely to influence change in prices as well. Concretely this means that statements of influential figures can move prices, but this is not captured in our data. Thus our model is based purely on empirical measurements and excludes variables that can not be expressed numerically."
   ]
  },
  {
   "cell_type": "markdown",
   "id": "dbf7d9ef",
   "metadata": {},
   "source": [
    "--------------------------------------------------------------------"
   ]
  },
  {
   "cell_type": "markdown",
   "id": "d7983e07",
   "metadata": {},
   "source": [
    "#### Strruction for Report\n",
    "\n",
    "- Introdution\n",
    "- "
   ]
  },
  {
   "cell_type": "code",
   "execution_count": null,
   "id": "3cfcc29a",
   "metadata": {},
   "outputs": [],
   "source": []
  }
 ],
 "metadata": {
  "kernelspec": {
   "display_name": "Python 3",
   "language": "python",
   "name": "python3"
  },
  "language_info": {
   "codemirror_mode": {
    "name": "ipython",
    "version": 3
   },
   "file_extension": ".py",
   "mimetype": "text/x-python",
   "name": "python",
   "nbconvert_exporter": "python",
   "pygments_lexer": "ipython3",
   "version": "3.8.8"
  }
 },
 "nbformat": 4,
 "nbformat_minor": 5
}
