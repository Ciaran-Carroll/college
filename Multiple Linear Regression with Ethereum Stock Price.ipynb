{
 "cells": [
  {
   "cell_type": "markdown",
   "id": "d83356e0",
   "metadata": {},
   "source": [
    "# Multiple Linear Regression with Ethereum Stock Price"
   ]
  },
  {
   "cell_type": "markdown",
   "id": "7ce9ddaf",
   "metadata": {},
   "source": [
    "Structure of the report:\n",
    "- Introduction, Project outline and software used\n",
    "- Background Theory\n",
    "- Explain the dataset and variables\n",
    "- Hypothesis\n",
    "- Implementing the Multiple Linear Regression\n",
    "- Results \n",
    "- Conclusion\n",
    "- References\n",
    "- Appendences: Attach Jupyter notebook"
   ]
  },
  {
   "cell_type": "markdown",
   "id": "d387aa53",
   "metadata": {},
   "source": [
    "Building and evaluating a multiple regression model."
   ]
  },
  {
   "cell_type": "markdown",
   "id": "b478f7d3",
   "metadata": {},
   "source": [
    "Predicting price of Ethereum using Multiple Linear Regression\n",
    "\n",
    "In this project will attempt to predicting price of Ethereum using Multiple Linear Regression\n",
    "\n",
    "The Overall Aim of the Priject:\n",
    "- Finding a suitable dataset to implement a Multiple LInear Regression Model.\n",
    "- Explaining the dataset, including source\n",
    "- Make clear statments fo the objections of anaylsis including the null hypothesis and alternative hypothesis\n",
    "- Visualisomg the dataset\n",
    "- Assessing the models equation\n",
    "- Visualise the model\n",
    "- Evaluating the model\n",
    "- Furthermore Validate our results using a validation set\n",
    "- Conclusion of project"
   ]
  },
  {
   "cell_type": "markdown",
   "id": "8273400b",
   "metadata": {},
   "source": [
    "Steps to implement the Multiple Linear Regression:\n",
    "\n",
    "1. Loading the dataset \n",
    "2. Visualise the dataset\n",
    "3. Preparing the data\n",
    "4. Spliting the dataset into Training and testing set\n",
    "5. Training the Model\n",
    "6. Validating the Fit of the Model\n",
    "7. Further testing of the model with a Validation set"
   ]
  },
  {
   "cell_type": "markdown",
   "id": "f58650be",
   "metadata": {},
   "source": [
    "### Loading the dataset\n",
    "\n",
    "Start date: 2016-03-10\n",
    "End date:   2021-08-24\n",
    "\n",
    "\n",
    "Link to [dataset](https://www.kaggle.com/odins0n/top-50-cryptocurrencies-historical-prices-starter/data?select=Ethereum.csv)\n",
    "\n",
    "Obtained from investing.com\n",
    "\n",
    "Include a validation set from the same data source \n",
    "\n",
    "\n",
    "For the purpose of this project, we will be applying a Multiple Linear Regression model to a data \n",
    "\n",
    "The dataset was obtained from 'Kaggle' which is  public data platform with a hugh inventory of datasets. The datasets from Kaggle are generally clen whic is useful for us as it allows us to forcus on the problem at hand.\n",
    "\n",
    "Kaggle tells us thar all data has been collected from 'investing.com', which is a solid stock investing website that provides real-time information on Ethereum. \n",
    "\n",
    "Ethereum\n",
    "\n",
    "We will also obtain a validation set from the same source to reafirm to result from our model on unseen data \n",
    "\n",
    "\n",
    "The aim of the project: \n",
    "we will find out what variables are influeencal when trying to predict\n",
    "the closing price of the Cryptocurrency."
   ]
  },
  {
   "cell_type": "markdown",
   "id": "bac1ad50",
   "metadata": {},
   "source": [
    "The [dataset](https://www.kaggle.com/odins0n/top-50-cryptocurrencies-historical-prices-starter/data?select=Ethereum.csv) for this project was obtained from 'Kaggle' that represents all the historical data of Ethereum (ETH): 'Ethereum.csv'. \n",
    "\n",
    "\n",
    "\n",
    "(ETH, also known as Ether), \n",
    "\n",
    "which is a cryptocurrency used as a decentralised coputing platform.\n",
    "\n",
    "Kaggle is a public data platform with a hugh inventory of datasets. The datasets from Kaggle are generally clean which is useful for us as it allows us to focus on the problem at hand without having to edit to dataset."
   ]
  },
  {
   "cell_type": "markdown",
   "id": "97a62ebc",
   "metadata": {},
   "source": [
    "The dataset contains:\n",
    "- <b>'Date':</b> Date of the cypto prices in NY EST Standard Time\n",
    "- <b>'Price':</b> Price of Ethereum (in U.S. Dollers)\n",
    "- <b>'Open':</b> Opening Price of Ethereum on the respective date\n",
    "- <b>'High':</b> Highest Price of Ethereum on the respective date\n",
    "- <b>'Low':</b> Lowest Price of Ethereum on the respective date\n",
    "- <b>'Vol.':</b> Volume of Ethereum transacted on the respective date\n",
    "- <b>'Change':</b> Percentage of Change in Ethereum Prices on the respective date"
   ]
  },
  {
   "cell_type": "markdown",
   "id": "3de81f67",
   "metadata": {},
   "source": [
    "### Hypothesis\n",
    "\n",
    "$H_0$: The 'Price' of the crypotocurrency Ethereum at any given day cannot be predicted by the 'Open', 'High' and 'Low' variables from our dataset for that day. The variables refer to the Opening Price, Highest Price and Lowest Price of Ethereum on that day.\n",
    "\n",
    "$H_A$: The 'Price' of the crypotocurrency Ethereum at any given day cannot be predicted by the 'Open', 'High' and 'Low' variables from our dataset for that day."
   ]
  },
  {
   "cell_type": "markdown",
   "id": "5613e189",
   "metadata": {},
   "source": [
    "### Loading the dataset"
   ]
  },
  {
   "cell_type": "code",
   "execution_count": 1,
   "id": "bda8e2ef",
   "metadata": {},
   "outputs": [
    {
     "data": {
      "text/html": [
       "<div>\n",
       "<style scoped>\n",
       "    .dataframe tbody tr th:only-of-type {\n",
       "        vertical-align: middle;\n",
       "    }\n",
       "\n",
       "    .dataframe tbody tr th {\n",
       "        vertical-align: top;\n",
       "    }\n",
       "\n",
       "    .dataframe thead th {\n",
       "        text-align: right;\n",
       "    }\n",
       "</style>\n",
       "<table border=\"1\" class=\"dataframe\">\n",
       "  <thead>\n",
       "    <tr style=\"text-align: right;\">\n",
       "      <th></th>\n",
       "      <th>Date</th>\n",
       "      <th>Price</th>\n",
       "      <th>Open</th>\n",
       "      <th>High</th>\n",
       "      <th>Low</th>\n",
       "      <th>Vol.</th>\n",
       "      <th>Change %</th>\n",
       "    </tr>\n",
       "    <tr>\n",
       "      <th>SNo</th>\n",
       "      <th></th>\n",
       "      <th></th>\n",
       "      <th></th>\n",
       "      <th></th>\n",
       "      <th></th>\n",
       "      <th></th>\n",
       "      <th></th>\n",
       "    </tr>\n",
       "  </thead>\n",
       "  <tbody>\n",
       "    <tr>\n",
       "      <th>1</th>\n",
       "      <td>2016-03-10</td>\n",
       "      <td>11.75</td>\n",
       "      <td>11.20</td>\n",
       "      <td>11.85</td>\n",
       "      <td>11.07</td>\n",
       "      <td>0.0</td>\n",
       "      <td>4.91</td>\n",
       "    </tr>\n",
       "    <tr>\n",
       "      <th>2</th>\n",
       "      <td>2016-03-11</td>\n",
       "      <td>11.95</td>\n",
       "      <td>11.75</td>\n",
       "      <td>11.95</td>\n",
       "      <td>11.75</td>\n",
       "      <td>180.0</td>\n",
       "      <td>1.70</td>\n",
       "    </tr>\n",
       "    <tr>\n",
       "      <th>3</th>\n",
       "      <td>2016-03-12</td>\n",
       "      <td>12.92</td>\n",
       "      <td>11.95</td>\n",
       "      <td>13.45</td>\n",
       "      <td>11.95</td>\n",
       "      <td>830.0</td>\n",
       "      <td>8.12</td>\n",
       "    </tr>\n",
       "    <tr>\n",
       "      <th>4</th>\n",
       "      <td>2016-03-13</td>\n",
       "      <td>15.07</td>\n",
       "      <td>12.92</td>\n",
       "      <td>15.07</td>\n",
       "      <td>12.92</td>\n",
       "      <td>1300.0</td>\n",
       "      <td>16.64</td>\n",
       "    </tr>\n",
       "    <tr>\n",
       "      <th>5</th>\n",
       "      <td>2016-03-14</td>\n",
       "      <td>12.50</td>\n",
       "      <td>15.07</td>\n",
       "      <td>15.07</td>\n",
       "      <td>11.40</td>\n",
       "      <td>92180.0</td>\n",
       "      <td>-17.05</td>\n",
       "    </tr>\n",
       "  </tbody>\n",
       "</table>\n",
       "</div>"
      ],
      "text/plain": [
       "           Date  Price   Open   High    Low     Vol.  Change %\n",
       "SNo                                                           \n",
       "1    2016-03-10  11.75  11.20  11.85  11.07      0.0      4.91\n",
       "2    2016-03-11  11.95  11.75  11.95  11.75    180.0      1.70\n",
       "3    2016-03-12  12.92  11.95  13.45  11.95    830.0      8.12\n",
       "4    2016-03-13  15.07  12.92  15.07  12.92   1300.0     16.64\n",
       "5    2016-03-14  12.50  15.07  15.07  11.40  92180.0    -17.05"
      ]
     },
     "execution_count": 1,
     "metadata": {},
     "output_type": "execute_result"
    }
   ],
   "source": [
    "import pandas as pd\n",
    "\n",
    "# Loads the 'Ethereum_Price_History_USD.csv' file as a DataFrame, using the \n",
    "# 'SNo' as the index column\n",
    "Eth_Price_Data = pd.read_csv('Ethereum_Price_History_USD.csv', index_col='SNo')\n",
    "\n",
    "# Show us the first 5 Rows in the 'Eth_Price_Data' DataFrame\n",
    "Eth_Price_Data.head()"
   ]
  },
  {
   "cell_type": "code",
   "execution_count": 2,
   "id": "45540006",
   "metadata": {},
   "outputs": [
    {
     "name": "stdout",
     "output_type": "stream",
     "text": [
      "Number of the days of Ethereum prices contained in the dataset: \n",
      " 1994 days\n"
     ]
    }
   ],
   "source": [
    "print('Number of the days of Ethereum prices contained in the dataset: \\n', len(Eth_Price_Data['Date']), 'days' )"
   ]
  },
  {
   "cell_type": "markdown",
   "id": "cfe47bdf",
   "metadata": {},
   "source": [
    "## Visualising the dataset"
   ]
  },
  {
   "cell_type": "markdown",
   "id": "9e4a5f38",
   "metadata": {},
   "source": [
    "We will plot the dataset so we can figure out what we can do with the dataset."
   ]
  },
  {
   "cell_type": "code",
   "execution_count": 3,
   "id": "f82b4130",
   "metadata": {},
   "outputs": [
    {
     "data": {
      "image/png": "[encoded data removed]",
      "text/plain": [
       "<Figure size 432x288 with 1 Axes>"
      ]
     },
     "metadata": {
      "needs_background": "light"
     },
     "output_type": "display_data"
    }
   ],
   "source": [
    "from matplotlib import pyplot as plt\n",
    "\n",
    "## Styling the plots for the project\n",
    "plt.style.use(style=\"seaborn\")\n",
    "%matplotlib inline\n",
    "\n",
    "# Creates a new DataFrame for plotting the Ethereum price history purposes \n",
    "# only containing only the 'Date' and 'Price' Variables as it doesn't\n",
    "# affect the original dataset\n",
    "Plot_Eth_Price = pd.DataFrame(Eth_Price_Data, columns = ['Date', 'Price'])\n",
    "\n",
    "# Creates a Variable 'Plot_Eth_Date' which contains the 'Date' variable only\n",
    "# We do this to edit the dates without changing the rest of the dataset\n",
    "Plot_Eth_Date = Plot_Eth_Price['Date']\n",
    "\n",
    "# Converts the content in the 'Plot_Eth_Date ' variable to datetime\n",
    "# This is needed for the 'autofmt_xdate()' function used to\n",
    "## make the plot more readable\n",
    "\n",
    "## Converts the content in the 'Plotting_Eth_Date' variable to \n",
    "## datetime. This is needed for the 'autofmt_xdate()' function \n",
    "## used to make the plot of the dataset more readable\n",
    "Plot_Eth_Date = pd.to_datetime(Plot_Eth_Date)\n",
    "\n",
    "plt.figure('Ethereum Price History')\n",
    "plt.title('Ethereum Price History on a daily basis')\n",
    "plt.xlabel('Date')\n",
    "plt.ylabel('Ethereum Price in U.S. Dollers')\n",
    "plt.grid(True)\n",
    "plt.plot(Plot_Eth_Date, Plot_Eth_Price['Price'], color = 'red')\n",
    "plt.gcf().autofmt_xdate()\n",
    "plt.savefig('Ethereum_Price_History.png')\n",
    "\n",
    "plt.show()"
   ]
  },
  {
   "cell_type": "markdown",
   "id": "d7fbdddc",
   "metadata": {},
   "source": [
    "While the "
   ]
  },
  {
   "cell_type": "markdown",
   "id": "95d18c1c",
   "metadata": {},
   "source": [
    "The formula for the multiple linear regression is:\n",
    "\n",
    "$$ y = \\beta_0 + \\beta_1 {X_1} + ... + \\beta_n {X_n} + \\epsilon $$"
   ]
  },
  {
   "cell_type": "markdown",
   "id": "996c827e",
   "metadata": {},
   "source": [
    "where:\n",
    "- $y$ - is the predicted value of the dependent variable\n",
    "- $\\beta_0$ - the y-intercept (value of y when all other parameters are set to 0)\n",
    "- $\\beta_1{X_1}$ - the regression coefficient ($\\beta_1$) of the first independent variable ($X_1$) \n",
    "- $ ... $ - continue for all the independent variables are being testing\n",
    "- $\\beta_n{X_n}$ - the regression coefficient of the last independent variable\n",
    "- $\\epsilon$ - model error (how much variation there is in our estimate of y)"
   ]
  },
  {
   "cell_type": "markdown",
   "id": "c64addf3",
   "metadata": {},
   "source": [
    "### Preparing the dataset for the Model"
   ]
  },
  {
   "cell_type": "code",
   "execution_count": 4,
   "id": "9bca7719",
   "metadata": {},
   "outputs": [],
   "source": [
    "# Creates a new DataFrame from the dataset that only contains the 'Price',\n",
    "# 'High', 'Low' and 'Open' Columns\n",
    "Eth_Price_Data = Eth_Price_Data[['Price', 'High', 'Low', 'Open']].dropna()\n",
    "\n",
    "\n",
    "# Split our new DataFrame above\n",
    "# 'data_X' will contain all the columns except the 'Price'\n",
    "# 'data_Y' will contain only the 'Price' column\n",
    "data_X = Eth_Price_Data.loc[:,Eth_Price_Data.columns !=  'Price' ]\n",
    "data_Y = Eth_Price_Data['Price']"
   ]
  },
  {
   "cell_type": "markdown",
   "id": "28f350a1",
   "metadata": {},
   "source": [
    "### Splitting the dataset into training and testing set."
   ]
  },
  {
   "cell_type": "code",
   "execution_count": 5,
   "id": "9694792d",
   "metadata": {},
   "outputs": [],
   "source": [
    "from sklearn.model_selection import train_test_split\n",
    "\n",
    "# 'train_test_split' function splits the dataset into two parts: the training\n",
    "# set and the testing set\n",
    "# In this case, we are randomly putting 75% of the dataset into the training\n",
    "# set and the remaining 25% into our testing set.\n",
    "# The random nature in this process helps to vary the type of data in each set\n",
    "train_X, test_X, train_Y,test_Y = train_test_split(data_X, data_Y, test_size=0.25)"
   ]
  },
  {
   "cell_type": "markdown",
   "id": "4984341b",
   "metadata": {},
   "source": [
    "### Training the model\n",
    "\n",
    "We want to see how well it can be fit to a linear model"
   ]
  },
  {
   "cell_type": "code",
   "execution_count": 6,
   "id": "8d94fdf7",
   "metadata": {},
   "outputs": [
    {
     "data": {
      "text/plain": [
       "LinearRegression()"
      ]
     },
     "execution_count": 6,
     "metadata": {},
     "output_type": "execute_result"
    }
   ],
   "source": [
    "from sklearn.linear_model import LinearRegression\n",
    "\n",
    "# Creates a Linear Regressor model object and subsequently trains \n",
    "# our algroithm with our training set with the fit() method\n",
    "regressor = LinearRegression()\n",
    "regressor.fit(train_X,train_Y)"
   ]
  },
  {
   "cell_type": "markdown",
   "id": "91a977ce",
   "metadata": {},
   "source": [
    "Our final linear regression model will be:\n",
    "\n",
    "$ price = \\beta_0  + \\beta_1 . High + \\beta_2 . Low + \\beta_3. Open$\n",
    "\n",
    "where\n",
    "\n",
    "$ \\beta_0 $ is the intercept\n",
    "\n",
    "and\n",
    "\n",
    "$ \\beta_1 $, $ \\beta_2 $ and $ \\beta_3 $ are the coefficients"
   ]
  },
  {
   "cell_type": "markdown",
   "id": "f63f3c77",
   "metadata": {},
   "source": [
    "### Validating the fit()"
   ]
  },
  {
   "cell_type": "code",
   "execution_count": 7,
   "id": "aa871877",
   "metadata": {},
   "outputs": [
    {
     "name": "stdout",
     "output_type": "stream",
     "text": [
      "Prediction Score with our test set:  0.998857920573417\n",
      "\n",
      "\n",
      "Mean Squared Error :  573.2777759334997\n",
      "\n",
      "\n",
      "Prediction Score with our training set:  0.9992429786271418\n",
      "\n",
      "\n",
      "Coefficients: \n",
      "\n",
      "[ 0.90596338  0.61364579 -0.52593155]\n",
      "\n",
      "\n",
      "Intercept:  0.16971562694192244\n",
      "test\n",
      "Mean Absolute Error:  8.722506687463174\n",
      "Root Mean Squared Error:  23.943219832209277\n"
     ]
    }
   ],
   "source": [
    "from sklearn.metrics import mean_squared_error, mean_absolute_error\n",
    "import numpy as np\n",
    "\n",
    "# The accuracy score represents the coefficient of the \n",
    "# determination (R2). The max value of this variable is 1, \n",
    "# but it can be negative. The RSquare is z measure of how\n",
    "# close the data is to the fitted regression line.\n",
    "predict_Y = regressor.predict(test_X)\n",
    "print('Accuracy score with our test set: ' , regressor.score(test_X,test_Y))\n",
    "\n",
    "\n",
    "# Coefficient are the weights\n",
    "print('Coefficients: \\n')\n",
    "print(regressor.coef_)\n",
    "\n",
    "print('\\n')\n",
    "## The intercept is the expected mean value of Y when all X=0\n",
    "print('Intercept: ', regressor.intercept_)\n",
    "\n",
    "print('test')\n",
    "meanAbError = mean_absolute_error(test_Y, predict_Y)\n",
    "\n",
    "\n",
    "print('\\n')\n",
    "\n",
    "# 'mean_error_'\n",
    "error = mean_squared_error(test_Y, predict_Y)\n",
    "print('Mean Squared Error : ',error)\n",
    "\n",
    "\n",
    "#The mean absolute error (MAE) is the average of all the absolute errors. The absolute error is the \n",
    "#difference between the true value (y_train) and the predicted value (y_pred).\n",
    "\n",
    "print('Mean Absolute Error: ', meanAbError)\n",
    "\n",
    "#The RMSE is the standard deviation of the residuals. Residuals is the difference between the predicted value and the regression line. Hence RMSE is a measure of how spread your residuals are.\n",
    "\n",
    "print('Root Mean Squared Error: ', np.sqrt(error))\n",
    "\n",
    "# The accuracy score represents the coefficient of determination ( 𝑅2 ). This is at max 1, but can be negative. It will be 0 if you predict the mean of y for all observations.\n",
    "\n",
    "#The R Square is measure of how close the data are to the fitted regression line.\n",
    "\n",
    "#In this case we can say that our model explains 79% of the training data & 75% of the testing data\n",
    "\n",
    "#The RMSE is the standard deviation of the residuals. Residuals is the difference between the predicted value and the regression line. Hence RMSE is a measure of how spread your residuals are.\n",
    "\n",
    "#The mean absolute error (MAE) is the average of all the absolute errors. The absolute error is the difference between the true value (y_train) and the predicted value (y_pred).\n",
    "\n",
    "\n",
    "## The Root Mean Square Error (RMSE) is the standard deviation of residuals, \n",
    "## which is a measure of how far data points are from the regression \n",
    "## (or line of best fit)\n",
    "#{lr_mse = math.sqrt(mean_squared_error(y_test, y_pred))}\n",
    "\n",
    "## R2Scorer2_score(y_test, y_pres)"
   ]
  },
  {
   "cell_type": "markdown",
   "id": "f356d393",
   "metadata": {},
   "source": [
    "----------------------------------------------------------------------"
   ]
  },
  {
   "cell_type": "markdown",
   "id": "eff4bfe0",
   "metadata": {},
   "source": [
    "$\\beta_0 = 0.18372626370052103$\n",
    "\n",
    "$\\beta_1 = 0.91117454$\n",
    "\n",
    "$\\beta_2 = 0.65252649$\n",
    "\n",
    "$\\beta_3 = -0.56826841$"
   ]
  },
  {
   "cell_type": "markdown",
   "id": "e8786e01",
   "metadata": {},
   "source": [
    "R2 score is close to 1 which indicates that the model used is good."
   ]
  },
  {
   "cell_type": "markdown",
   "id": "dbed8a54",
   "metadata": {},
   "source": [
    "Both plots are done seperately because they overlap too similerly "
   ]
  },
  {
   "cell_type": "code",
   "execution_count": 8,
   "id": "d95d3c67",
   "metadata": {},
   "outputs": [
    {
     "data": {
      "image/png": "[encoded data removed]",
      "text/plain": [
       "<Figure size 432x288 with 1 Axes>"
      ]
     },
     "metadata": {
      "needs_background": "light"
     },
     "output_type": "display_data"
    }
   ],
   "source": [
    "#Plot the predicted and the expected values\n",
    "\n",
    "plt.title('Ethereum Stock: Open Price vs Closing Price')\n",
    "plt.xlabel('Open Price')\n",
    "plt.ylabel('Price')\n",
    "plt.grid(True)\n",
    "plt.plot(test_X['Open'],test_Y, color = 'green')\n",
    "plt.show()"
   ]
  },
  {
   "cell_type": "code",
   "execution_count": 9,
   "id": "84b5b595",
   "metadata": {},
   "outputs": [
    {
     "data": {
      "image/png": "[encoded data removed]",
      "text/plain": [
       "<Figure size 432x288 with 1 Axes>"
      ]
     },
     "metadata": {
      "needs_background": "light"
     },
     "output_type": "display_data"
    }
   ],
   "source": [
    "#Plot the predicted and the expected values\n",
    "\n",
    "plt.title('Ethereum Stock: Open Price vs Predicted Price')\n",
    "plt.xlabel('Open Price')\n",
    "plt.ylabel('Price')\n",
    "plt.grid(True)\n",
    "plt.plot(test_X['Open'], predict_Y, color = 'blue')\n",
    "plt.show()"
   ]
  },
  {
   "cell_type": "code",
   "execution_count": 10,
   "id": "8f40647e",
   "metadata": {},
   "outputs": [
    {
     "data": {
      "text/html": [
       "<div>\n",
       "<style scoped>\n",
       "    .dataframe tbody tr th:only-of-type {\n",
       "        vertical-align: middle;\n",
       "    }\n",
       "\n",
       "    .dataframe tbody tr th {\n",
       "        vertical-align: top;\n",
       "    }\n",
       "\n",
       "    .dataframe thead th {\n",
       "        text-align: right;\n",
       "    }\n",
       "</style>\n",
       "<table border=\"1\" class=\"dataframe\">\n",
       "  <thead>\n",
       "    <tr style=\"text-align: right;\">\n",
       "      <th></th>\n",
       "      <th>Actual Price</th>\n",
       "      <th>Predicted Price</th>\n",
       "      <th>Difference</th>\n",
       "    </tr>\n",
       "    <tr>\n",
       "      <th>SNo</th>\n",
       "      <th></th>\n",
       "      <th></th>\n",
       "      <th></th>\n",
       "    </tr>\n",
       "  </thead>\n",
       "  <tbody>\n",
       "    <tr>\n",
       "      <th>124</th>\n",
       "      <td>10.51</td>\n",
       "      <td>10.717086</td>\n",
       "      <td>-0.207086</td>\n",
       "    </tr>\n",
       "    <tr>\n",
       "      <th>1713</th>\n",
       "      <td>460.43</td>\n",
       "      <td>460.185035</td>\n",
       "      <td>0.244965</td>\n",
       "    </tr>\n",
       "    <tr>\n",
       "      <th>613</th>\n",
       "      <td>303.90</td>\n",
       "      <td>302.698376</td>\n",
       "      <td>1.201624</td>\n",
       "    </tr>\n",
       "    <tr>\n",
       "      <th>1217</th>\n",
       "      <td>307.41</td>\n",
       "      <td>310.167964</td>\n",
       "      <td>-2.757964</td>\n",
       "    </tr>\n",
       "    <tr>\n",
       "      <th>70</th>\n",
       "      <td>13.35</td>\n",
       "      <td>14.249764</td>\n",
       "      <td>-0.899764</td>\n",
       "    </tr>\n",
       "    <tr>\n",
       "      <th>...</th>\n",
       "      <td>...</td>\n",
       "      <td>...</td>\n",
       "      <td>...</td>\n",
       "    </tr>\n",
       "    <tr>\n",
       "      <th>375</th>\n",
       "      <td>43.17</td>\n",
       "      <td>44.501645</td>\n",
       "      <td>-1.331645</td>\n",
       "    </tr>\n",
       "    <tr>\n",
       "      <th>1429</th>\n",
       "      <td>213.16</td>\n",
       "      <td>212.299514</td>\n",
       "      <td>0.860486</td>\n",
       "    </tr>\n",
       "    <tr>\n",
       "      <th>788</th>\n",
       "      <td>793.19</td>\n",
       "      <td>792.353920</td>\n",
       "      <td>0.836080</td>\n",
       "    </tr>\n",
       "    <tr>\n",
       "      <th>1703</th>\n",
       "      <td>455.72</td>\n",
       "      <td>450.524961</td>\n",
       "      <td>5.195039</td>\n",
       "    </tr>\n",
       "    <tr>\n",
       "      <th>277</th>\n",
       "      <td>8.19</td>\n",
       "      <td>8.271997</td>\n",
       "      <td>-0.081997</td>\n",
       "    </tr>\n",
       "  </tbody>\n",
       "</table>\n",
       "<p>499 rows × 3 columns</p>\n",
       "</div>"
      ],
      "text/plain": [
       "      Actual Price  Predicted Price  Difference\n",
       "SNo                                            \n",
       "124          10.51        10.717086   -0.207086\n",
       "1713        460.43       460.185035    0.244965\n",
       "613         303.90       302.698376    1.201624\n",
       "1217        307.41       310.167964   -2.757964\n",
       "70           13.35        14.249764   -0.899764\n",
       "...            ...              ...         ...\n",
       "375          43.17        44.501645   -1.331645\n",
       "1429        213.16       212.299514    0.860486\n",
       "788         793.19       792.353920    0.836080\n",
       "1703        455.72       450.524961    5.195039\n",
       "277           8.19         8.271997   -0.081997\n",
       "\n",
       "[499 rows x 3 columns]"
      ]
     },
     "execution_count": 10,
     "metadata": {},
     "output_type": "execute_result"
    }
   ],
   "source": [
    "answer = pd.DataFrame({'Actual Price' :test_Y, 'Predicted Price' :predict_Y, 'Difference' :test_Y-predict_Y })\n",
    "\n",
    "answer"
   ]
  },
  {
   "cell_type": "markdown",
   "id": "1ec6770d",
   "metadata": {},
   "source": [
    "The model suggests that the high-price, low-price and open-price are indicative of the closing price of the same day. Based on the found coefficients, we conclude that the high-price is most influential on the closing price."
   ]
  },
  {
   "cell_type": "markdown",
   "id": "f4009465",
   "metadata": {},
   "source": [
    "-------------------------------------------------------"
   ]
  },
  {
   "cell_type": "markdown",
   "id": "c2d0a2d8",
   "metadata": {},
   "source": [
    "## Further testing of our model with a validation set"
   ]
  },
  {
   "cell_type": "code",
   "execution_count": 11,
   "id": "2c1534f7",
   "metadata": {},
   "outputs": [
    {
     "data": {
      "text/html": [
       "<div>\n",
       "<style scoped>\n",
       "    .dataframe tbody tr th:only-of-type {\n",
       "        vertical-align: middle;\n",
       "    }\n",
       "\n",
       "    .dataframe tbody tr th {\n",
       "        vertical-align: top;\n",
       "    }\n",
       "\n",
       "    .dataframe thead th {\n",
       "        text-align: right;\n",
       "    }\n",
       "</style>\n",
       "<table border=\"1\" class=\"dataframe\">\n",
       "  <thead>\n",
       "    <tr style=\"text-align: right;\">\n",
       "      <th></th>\n",
       "      <th>Date</th>\n",
       "      <th>Price</th>\n",
       "      <th>Open</th>\n",
       "      <th>High</th>\n",
       "      <th>Low</th>\n",
       "      <th>Vol.</th>\n",
       "      <th>Change %</th>\n",
       "    </tr>\n",
       "  </thead>\n",
       "  <tbody>\n",
       "    <tr>\n",
       "      <th>0</th>\n",
       "      <td>2021-11-13</td>\n",
       "      <td>4688.46</td>\n",
       "      <td>4665.76</td>\n",
       "      <td>4705.02</td>\n",
       "      <td>4585.37</td>\n",
       "      <td>377110</td>\n",
       "      <td>0.45%</td>\n",
       "    </tr>\n",
       "    <tr>\n",
       "      <th>1</th>\n",
       "      <td>2021-11-12</td>\n",
       "      <td>4667.31</td>\n",
       "      <td>4720.50</td>\n",
       "      <td>4807.16</td>\n",
       "      <td>4511.96</td>\n",
       "      <td>634590</td>\n",
       "      <td>-1.13%</td>\n",
       "    </tr>\n",
       "    <tr>\n",
       "      <th>2</th>\n",
       "      <td>2021-11-11</td>\n",
       "      <td>4720.87</td>\n",
       "      <td>4633.98</td>\n",
       "      <td>4778.17</td>\n",
       "      <td>4578.66</td>\n",
       "      <td>418610</td>\n",
       "      <td>1.87%</td>\n",
       "    </tr>\n",
       "    <tr>\n",
       "      <th>3</th>\n",
       "      <td>2021-11-10</td>\n",
       "      <td>4634.03</td>\n",
       "      <td>4731.83</td>\n",
       "      <td>4864.06</td>\n",
       "      <td>4498.78</td>\n",
       "      <td>761900</td>\n",
       "      <td>-2.07%</td>\n",
       "    </tr>\n",
       "    <tr>\n",
       "      <th>4</th>\n",
       "      <td>2021-11-09</td>\n",
       "      <td>4731.83</td>\n",
       "      <td>4808.34</td>\n",
       "      <td>4836.69</td>\n",
       "      <td>4715.43</td>\n",
       "      <td>437410</td>\n",
       "      <td>-1.59%</td>\n",
       "    </tr>\n",
       "    <tr>\n",
       "      <th>5</th>\n",
       "      <td>2021-11-08</td>\n",
       "      <td>4808.38</td>\n",
       "      <td>4612.05</td>\n",
       "      <td>4822.97</td>\n",
       "      <td>4612.05</td>\n",
       "      <td>673210</td>\n",
       "      <td>4.26%</td>\n",
       "    </tr>\n",
       "    <tr>\n",
       "      <th>6</th>\n",
       "      <td>2021-11-07</td>\n",
       "      <td>4612.06</td>\n",
       "      <td>4517.27</td>\n",
       "      <td>4634.39</td>\n",
       "      <td>4502.70</td>\n",
       "      <td>337810</td>\n",
       "      <td>2.10%</td>\n",
       "    </tr>\n",
       "    <tr>\n",
       "      <th>7</th>\n",
       "      <td>2021-11-06</td>\n",
       "      <td>4517.36</td>\n",
       "      <td>4475.00</td>\n",
       "      <td>4526.75</td>\n",
       "      <td>4330.29</td>\n",
       "      <td>442600</td>\n",
       "      <td>0.95%</td>\n",
       "    </tr>\n",
       "    <tr>\n",
       "      <th>8</th>\n",
       "      <td>2021-11-05</td>\n",
       "      <td>4475.00</td>\n",
       "      <td>4534.96</td>\n",
       "      <td>4569.31</td>\n",
       "      <td>4439.67</td>\n",
       "      <td>409750</td>\n",
       "      <td>-1.33%</td>\n",
       "    </tr>\n",
       "    <tr>\n",
       "      <th>9</th>\n",
       "      <td>2021-11-04</td>\n",
       "      <td>4535.11</td>\n",
       "      <td>4601.93</td>\n",
       "      <td>4604.83</td>\n",
       "      <td>4421.87</td>\n",
       "      <td>495860</td>\n",
       "      <td>-1.46%</td>\n",
       "    </tr>\n",
       "    <tr>\n",
       "      <th>10</th>\n",
       "      <td>2021-11-03</td>\n",
       "      <td>4602.21</td>\n",
       "      <td>4586.96</td>\n",
       "      <td>4661.88</td>\n",
       "      <td>4458.87</td>\n",
       "      <td>634680</td>\n",
       "      <td>0.35%</td>\n",
       "    </tr>\n",
       "    <tr>\n",
       "      <th>11</th>\n",
       "      <td>2021-11-02</td>\n",
       "      <td>4586.06</td>\n",
       "      <td>4320.85</td>\n",
       "      <td>4598.38</td>\n",
       "      <td>4287.36</td>\n",
       "      <td>630260</td>\n",
       "      <td>6.14%</td>\n",
       "    </tr>\n",
       "    <tr>\n",
       "      <th>12</th>\n",
       "      <td>2021-11-01</td>\n",
       "      <td>4320.85</td>\n",
       "      <td>4287.41</td>\n",
       "      <td>4376.94</td>\n",
       "      <td>4157.51</td>\n",
       "      <td>574260</td>\n",
       "      <td>0.78%</td>\n",
       "    </tr>\n",
       "    <tr>\n",
       "      <th>13</th>\n",
       "      <td>2021-10-31</td>\n",
       "      <td>4287.56</td>\n",
       "      <td>4322.00</td>\n",
       "      <td>4393.61</td>\n",
       "      <td>4169.48</td>\n",
       "      <td>555320</td>\n",
       "      <td>-0.77%</td>\n",
       "    </tr>\n",
       "    <tr>\n",
       "      <th>14</th>\n",
       "      <td>2021-10-30</td>\n",
       "      <td>4320.65</td>\n",
       "      <td>4413.70</td>\n",
       "      <td>4428.41</td>\n",
       "      <td>4250.24</td>\n",
       "      <td>494870</td>\n",
       "      <td>-2.11%</td>\n",
       "    </tr>\n",
       "  </tbody>\n",
       "</table>\n",
       "</div>"
      ],
      "text/plain": [
       "          Date    Price     Open     High      Low    Vol. Change %\n",
       "0   2021-11-13  4688.46  4665.76  4705.02  4585.37  377110    0.45%\n",
       "1   2021-11-12  4667.31  4720.50  4807.16  4511.96  634590   -1.13%\n",
       "2   2021-11-11  4720.87  4633.98  4778.17  4578.66  418610    1.87%\n",
       "3   2021-11-10  4634.03  4731.83  4864.06  4498.78  761900   -2.07%\n",
       "4   2021-11-09  4731.83  4808.34  4836.69  4715.43  437410   -1.59%\n",
       "5   2021-11-08  4808.38  4612.05  4822.97  4612.05  673210    4.26%\n",
       "6   2021-11-07  4612.06  4517.27  4634.39  4502.70  337810    2.10%\n",
       "7   2021-11-06  4517.36  4475.00  4526.75  4330.29  442600    0.95%\n",
       "8   2021-11-05  4475.00  4534.96  4569.31  4439.67  409750   -1.33%\n",
       "9   2021-11-04  4535.11  4601.93  4604.83  4421.87  495860   -1.46%\n",
       "10  2021-11-03  4602.21  4586.96  4661.88  4458.87  634680    0.35%\n",
       "11  2021-11-02  4586.06  4320.85  4598.38  4287.36  630260    6.14%\n",
       "12  2021-11-01  4320.85  4287.41  4376.94  4157.51  574260    0.78%\n",
       "13  2021-10-31  4287.56  4322.00  4393.61  4169.48  555320   -0.77%\n",
       "14  2021-10-30  4320.65  4413.70  4428.41  4250.24  494870   -2.11%"
      ]
     },
     "execution_count": 11,
     "metadata": {},
     "output_type": "execute_result"
    }
   ],
   "source": [
    "validation_set = pd.read_csv('Ethereum_ValidationSet.csv')\n",
    "\n",
    "validation_set.head(15)"
   ]
  },
  {
   "cell_type": "code",
   "execution_count": 12,
   "id": "ec178c70",
   "metadata": {},
   "outputs": [
    {
     "data": {
      "text/html": [
       "<div>\n",
       "<style scoped>\n",
       "    .dataframe tbody tr th:only-of-type {\n",
       "        vertical-align: middle;\n",
       "    }\n",
       "\n",
       "    .dataframe tbody tr th {\n",
       "        vertical-align: top;\n",
       "    }\n",
       "\n",
       "    .dataframe thead th {\n",
       "        text-align: right;\n",
       "    }\n",
       "</style>\n",
       "<table border=\"1\" class=\"dataframe\">\n",
       "  <thead>\n",
       "    <tr style=\"text-align: right;\">\n",
       "      <th></th>\n",
       "      <th>Date</th>\n",
       "      <th>Actual Price</th>\n",
       "      <th>Predicted Price</th>\n",
       "      <th>Difference</th>\n",
       "    </tr>\n",
       "  </thead>\n",
       "  <tbody>\n",
       "    <tr>\n",
       "      <th>0</th>\n",
       "      <td>2021-11-13</td>\n",
       "      <td>4688.46</td>\n",
       "      <td>4622.668137</td>\n",
       "      <td>65.791863</td>\n",
       "    </tr>\n",
       "    <tr>\n",
       "      <th>1</th>\n",
       "      <td>2021-11-12</td>\n",
       "      <td>4667.31</td>\n",
       "      <td>4641.366005</td>\n",
       "      <td>25.943995</td>\n",
       "    </tr>\n",
       "    <tr>\n",
       "      <th>2</th>\n",
       "      <td>2021-11-11</td>\n",
       "      <td>4720.87</td>\n",
       "      <td>4701.535899</td>\n",
       "      <td>19.334101</td>\n",
       "    </tr>\n",
       "    <tr>\n",
       "      <th>3</th>\n",
       "      <td>2021-11-10</td>\n",
       "      <td>4634.03</td>\n",
       "      <td>4678.868666</td>\n",
       "      <td>-44.838666</td>\n",
       "    </tr>\n",
       "    <tr>\n",
       "      <th>4</th>\n",
       "      <td>2021-11-09</td>\n",
       "      <td>4731.83</td>\n",
       "      <td>4746.779786</td>\n",
       "      <td>-14.949786</td>\n",
       "    </tr>\n",
       "    <tr>\n",
       "      <th>5</th>\n",
       "      <td>2021-11-08</td>\n",
       "      <td>4808.38</td>\n",
       "      <td>4774.146370</td>\n",
       "      <td>34.233630</td>\n",
       "    </tr>\n",
       "    <tr>\n",
       "      <th>6</th>\n",
       "      <td>2021-11-07</td>\n",
       "      <td>4612.06</td>\n",
       "      <td>4586.045422</td>\n",
       "      <td>26.014578</td>\n",
       "    </tr>\n",
       "    <tr>\n",
       "      <th>7</th>\n",
       "      <td>2021-11-06</td>\n",
       "      <td>4517.36</td>\n",
       "      <td>4404.959980</td>\n",
       "      <td>112.400020</td>\n",
       "    </tr>\n",
       "    <tr>\n",
       "      <th>8</th>\n",
       "      <td>2021-11-05</td>\n",
       "      <td>4475.00</td>\n",
       "      <td>4479.103502</td>\n",
       "      <td>-4.103502</td>\n",
       "    </tr>\n",
       "    <tr>\n",
       "      <th>9</th>\n",
       "      <td>2021-11-04</td>\n",
       "      <td>4535.11</td>\n",
       "      <td>4465.138790</td>\n",
       "      <td>69.971210</td>\n",
       "    </tr>\n",
       "    <tr>\n",
       "      <th>10</th>\n",
       "      <td>2021-11-03</td>\n",
       "      <td>4602.21</td>\n",
       "      <td>4547.402090</td>\n",
       "      <td>54.807910</td>\n",
       "    </tr>\n",
       "    <tr>\n",
       "      <th>11</th>\n",
       "      <td>2021-11-02</td>\n",
       "      <td>4586.06</td>\n",
       "      <td>4524.582671</td>\n",
       "      <td>61.477329</td>\n",
       "    </tr>\n",
       "    <tr>\n",
       "      <th>12</th>\n",
       "      <td>2021-11-01</td>\n",
       "      <td>4320.85</td>\n",
       "      <td>4261.871386</td>\n",
       "      <td>58.978614</td>\n",
       "    </tr>\n",
       "    <tr>\n",
       "      <th>13</th>\n",
       "      <td>2021-10-31</td>\n",
       "      <td>4287.56</td>\n",
       "      <td>4266.127163</td>\n",
       "      <td>21.432837</td>\n",
       "    </tr>\n",
       "    <tr>\n",
       "      <th>14</th>\n",
       "      <td>2021-10-30</td>\n",
       "      <td>4320.65</td>\n",
       "      <td>4298.984800</td>\n",
       "      <td>21.665200</td>\n",
       "    </tr>\n",
       "    <tr>\n",
       "      <th>15</th>\n",
       "      <td>2021-10-29</td>\n",
       "      <td>4413.70</td>\n",
       "      <td>4404.831243</td>\n",
       "      <td>8.868757</td>\n",
       "    </tr>\n",
       "  </tbody>\n",
       "</table>\n",
       "</div>"
      ],
      "text/plain": [
       "          Date  Actual Price  Predicted Price  Difference\n",
       "0   2021-11-13       4688.46      4622.668137   65.791863\n",
       "1   2021-11-12       4667.31      4641.366005   25.943995\n",
       "2   2021-11-11       4720.87      4701.535899   19.334101\n",
       "3   2021-11-10       4634.03      4678.868666  -44.838666\n",
       "4   2021-11-09       4731.83      4746.779786  -14.949786\n",
       "5   2021-11-08       4808.38      4774.146370   34.233630\n",
       "6   2021-11-07       4612.06      4586.045422   26.014578\n",
       "7   2021-11-06       4517.36      4404.959980  112.400020\n",
       "8   2021-11-05       4475.00      4479.103502   -4.103502\n",
       "9   2021-11-04       4535.11      4465.138790   69.971210\n",
       "10  2021-11-03       4602.21      4547.402090   54.807910\n",
       "11  2021-11-02       4586.06      4524.582671   61.477329\n",
       "12  2021-11-01       4320.85      4261.871386   58.978614\n",
       "13  2021-10-31       4287.56      4266.127163   21.432837\n",
       "14  2021-10-30       4320.65      4298.984800   21.665200\n",
       "15  2021-10-29       4413.70      4404.831243    8.868757"
      ]
     },
     "execution_count": 12,
     "metadata": {},
     "output_type": "execute_result"
    }
   ],
   "source": [
    "validating_model = pd.DataFrame(validation_set[['High', 'Low', 'Open']])\n",
    "\n",
    "valid_Y = regressor.predict(validating_model)\n",
    "\n",
    "valid_actual_Y = validation_set['Price']\n",
    "\n",
    "answer = pd.DataFrame({'Date' :validation_set['Date'], 'Actual Price' :valid_actual_Y, 'Predicted Price' :valid_Y, 'Difference' :valid_actual_Y-valid_Y })\n",
    "\n",
    "answer"
   ]
  },
  {
   "cell_type": "code",
   "execution_count": 13,
   "id": "79f84b7b",
   "metadata": {},
   "outputs": [
    {
     "name": "stdout",
     "output_type": "stream",
     "text": [
      "Number of days of data in our validation set:  16\n",
      "Sum of the Differences between our Predicted Price and Acutal Price: \n",
      " 517.028091665542\n",
      "Average Difference per day between our Predicted Price and Acutal Price: \n",
      " 32.314255729096374\n"
     ]
    }
   ],
   "source": [
    "print('Number of days of data in our validation set: ', len(validating_model['High']))\n",
    "\n",
    "\n",
    "print('Sum of the Differences between our Predicted Price and Acutal Price: \\n', sum(answer['Difference']))\n",
    "\n",
    "avg_diff = sum(answer['Difference']) / len(answer['Difference'])\n",
    "\n",
    "print('Average Difference per day between our Predicted Price and Acutal Price: \\n', avg_diff)"
   ]
  },
  {
   "cell_type": "markdown",
   "id": "a603e664",
   "metadata": {},
   "source": [
    "---------------------------------------------------------------------"
   ]
  },
  {
   "cell_type": "code",
   "execution_count": null,
   "id": "3cfcc29a",
   "metadata": {},
   "outputs": [],
   "source": []
  }
 ],
 "metadata": {
  "kernelspec": {
   "display_name": "Python 3",
   "language": "python",
   "name": "python3"
  },
  "language_info": {
   "codemirror_mode": {
    "name": "ipython",
    "version": 3
   },
   "file_extension": ".py",
   "mimetype": "text/x-python",
   "name": "python",
   "nbconvert_exporter": "python",
   "pygments_lexer": "ipython3",
   "version": "3.8.8"
  }
 },
 "nbformat": 4,
 "nbformat_minor": 5
}
