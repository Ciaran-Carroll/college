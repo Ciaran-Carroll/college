{
 "cells": [
  {
   "cell_type": "markdown",
   "id": "d83356e0",
   "metadata": {},
   "source": [
    "# Multiple Linear Regression with Ethereum Stock Price"
   ]
  },
  {
   "cell_type": "markdown",
   "id": "d387aa53",
   "metadata": {},
   "source": [
    "Building and evaluating a multiple regression model."
   ]
  },
  {
   "cell_type": "markdown",
   "id": "1da3ce36",
   "metadata": {},
   "source": [
    "Main steps in the project:\n",
    "- Loading the dataset\n",
    "- Visualising the dataset\n",
    "- Preparing the data for the model\n",
    "- Confirming our hypothesis testing\n",
    "- Preparing the model\n",
    "- Training the model\n",
    "- Evaluating the model"
   ]
  },
  {
   "cell_type": "markdown",
   "id": "489abedf",
   "metadata": {},
   "source": [
    "### Loading the dataset"
   ]
  },
  {
   "cell_type": "markdown",
   "id": "608577f1",
   "metadata": {},
   "source": [
    "Loads the 'Ethereum_Price_History_USD.csv' file as a DataFrame, using the 'SNo' as the index column\n",
    "\n",
    "Then we will print the first 10 Rows in the 'Eth_Price_Data' DataFrame to ensure that everything is as expected."
   ]
  },
  {
   "cell_type": "code",
   "execution_count": 1,
   "id": "bda8e2ef",
   "metadata": {},
   "outputs": [
    {
     "data": {
      "text/html": [
       "<div>\n",
       "<style scoped>\n",
       "    .dataframe tbody tr th:only-of-type {\n",
       "        vertical-align: middle;\n",
       "    }\n",
       "\n",
       "    .dataframe tbody tr th {\n",
       "        vertical-align: top;\n",
       "    }\n",
       "\n",
       "    .dataframe thead th {\n",
       "        text-align: right;\n",
       "    }\n",
       "</style>\n",
       "<table border=\"1\" class=\"dataframe\">\n",
       "  <thead>\n",
       "    <tr style=\"text-align: right;\">\n",
       "      <th></th>\n",
       "      <th>Date</th>\n",
       "      <th>Price</th>\n",
       "      <th>Open</th>\n",
       "      <th>High</th>\n",
       "      <th>Low</th>\n",
       "      <th>Vol.</th>\n",
       "      <th>Change %</th>\n",
       "    </tr>\n",
       "    <tr>\n",
       "      <th>SNo</th>\n",
       "      <th></th>\n",
       "      <th></th>\n",
       "      <th></th>\n",
       "      <th></th>\n",
       "      <th></th>\n",
       "      <th></th>\n",
       "      <th></th>\n",
       "    </tr>\n",
       "  </thead>\n",
       "  <tbody>\n",
       "    <tr>\n",
       "      <th>1</th>\n",
       "      <td>2016-03-10</td>\n",
       "      <td>11.75</td>\n",
       "      <td>11.20</td>\n",
       "      <td>11.85</td>\n",
       "      <td>11.07</td>\n",
       "      <td>0.0</td>\n",
       "      <td>4.91</td>\n",
       "    </tr>\n",
       "    <tr>\n",
       "      <th>2</th>\n",
       "      <td>2016-03-11</td>\n",
       "      <td>11.95</td>\n",
       "      <td>11.75</td>\n",
       "      <td>11.95</td>\n",
       "      <td>11.75</td>\n",
       "      <td>180.0</td>\n",
       "      <td>1.70</td>\n",
       "    </tr>\n",
       "    <tr>\n",
       "      <th>3</th>\n",
       "      <td>2016-03-12</td>\n",
       "      <td>12.92</td>\n",
       "      <td>11.95</td>\n",
       "      <td>13.45</td>\n",
       "      <td>11.95</td>\n",
       "      <td>830.0</td>\n",
       "      <td>8.12</td>\n",
       "    </tr>\n",
       "    <tr>\n",
       "      <th>4</th>\n",
       "      <td>2016-03-13</td>\n",
       "      <td>15.07</td>\n",
       "      <td>12.92</td>\n",
       "      <td>15.07</td>\n",
       "      <td>12.92</td>\n",
       "      <td>1300.0</td>\n",
       "      <td>16.64</td>\n",
       "    </tr>\n",
       "    <tr>\n",
       "      <th>5</th>\n",
       "      <td>2016-03-14</td>\n",
       "      <td>12.50</td>\n",
       "      <td>15.07</td>\n",
       "      <td>15.07</td>\n",
       "      <td>11.40</td>\n",
       "      <td>92180.0</td>\n",
       "      <td>-17.05</td>\n",
       "    </tr>\n",
       "    <tr>\n",
       "      <th>6</th>\n",
       "      <td>2016-03-15</td>\n",
       "      <td>13.06</td>\n",
       "      <td>12.63</td>\n",
       "      <td>13.42</td>\n",
       "      <td>11.98</td>\n",
       "      <td>39730.0</td>\n",
       "      <td>4.48</td>\n",
       "    </tr>\n",
       "    <tr>\n",
       "      <th>7</th>\n",
       "      <td>2016-03-16</td>\n",
       "      <td>12.88</td>\n",
       "      <td>13.06</td>\n",
       "      <td>13.89</td>\n",
       "      <td>12.62</td>\n",
       "      <td>19240.0</td>\n",
       "      <td>-1.38</td>\n",
       "    </tr>\n",
       "    <tr>\n",
       "      <th>8</th>\n",
       "      <td>2016-03-17</td>\n",
       "      <td>10.74</td>\n",
       "      <td>12.58</td>\n",
       "      <td>12.61</td>\n",
       "      <td>10.44</td>\n",
       "      <td>89450.0</td>\n",
       "      <td>-16.61</td>\n",
       "    </tr>\n",
       "    <tr>\n",
       "      <th>9</th>\n",
       "      <td>2016-03-18</td>\n",
       "      <td>10.74</td>\n",
       "      <td>11.09</td>\n",
       "      <td>11.20</td>\n",
       "      <td>8.34</td>\n",
       "      <td>157370.0</td>\n",
       "      <td>0.00</td>\n",
       "    </tr>\n",
       "    <tr>\n",
       "      <th>10</th>\n",
       "      <td>2016-03-19</td>\n",
       "      <td>10.31</td>\n",
       "      <td>10.97</td>\n",
       "      <td>11.10</td>\n",
       "      <td>9.78</td>\n",
       "      <td>67550.0</td>\n",
       "      <td>-4.00</td>\n",
       "    </tr>\n",
       "  </tbody>\n",
       "</table>\n",
       "</div>"
      ],
      "text/plain": [
       "           Date  Price   Open   High    Low      Vol.  Change %\n",
       "SNo                                                            \n",
       "1    2016-03-10  11.75  11.20  11.85  11.07       0.0      4.91\n",
       "2    2016-03-11  11.95  11.75  11.95  11.75     180.0      1.70\n",
       "3    2016-03-12  12.92  11.95  13.45  11.95     830.0      8.12\n",
       "4    2016-03-13  15.07  12.92  15.07  12.92    1300.0     16.64\n",
       "5    2016-03-14  12.50  15.07  15.07  11.40   92180.0    -17.05\n",
       "6    2016-03-15  13.06  12.63  13.42  11.98   39730.0      4.48\n",
       "7    2016-03-16  12.88  13.06  13.89  12.62   19240.0     -1.38\n",
       "8    2016-03-17  10.74  12.58  12.61  10.44   89450.0    -16.61\n",
       "9    2016-03-18  10.74  11.09  11.20   8.34  157370.0      0.00\n",
       "10   2016-03-19  10.31  10.97  11.10   9.78   67550.0     -4.00"
      ]
     },
     "execution_count": 1,
     "metadata": {},
     "output_type": "execute_result"
    }
   ],
   "source": [
    "import pandas as pd\n",
    "\n",
    "# Loads the dataset\n",
    "Eth_Price_Data = pd.read_csv('Ethereum_Price_History_USD.csv', index_col='SNo')\n",
    "\n",
    "# Prints the first 10 Rows from the dataset\n",
    "Eth_Price_Data.head(10)"
   ]
  },
  {
   "cell_type": "code",
   "execution_count": 2,
   "id": "45540006",
   "metadata": {},
   "outputs": [
    {
     "name": "stdout",
     "output_type": "stream",
     "text": [
      "Number of the days of Ethereum prices contained in the dataset: \n",
      " 1994 days\n"
     ]
    }
   ],
   "source": [
    "print('Number of the days of Ethereum prices contained in the dataset: \\n', len(Eth_Price_Data['Date']), 'days' )"
   ]
  },
  {
   "cell_type": "markdown",
   "id": "cfe47bdf",
   "metadata": {},
   "source": [
    "## Visualising the dataset"
   ]
  },
  {
   "cell_type": "markdown",
   "id": "a821445b",
   "metadata": {},
   "source": [
    "We will plot the dataset so we can figure out what we can do with the dataset."
   ]
  },
  {
   "cell_type": "markdown",
   "id": "2137f0a4",
   "metadata": {},
   "source": [
    "In order to plot our Ethereum dataset we need to:\n",
    "- Create a new DataFrame contining only the 'Date' and 'Price' Variables\n",
    "- Creates a seperate DataFrame containing only the 'Date' variable\n",
    "- Convert the 'Date' DataFrame to datetime\n",
    "- Plot the final updated variables using matplotlib\n",
    "\n",
    "Creating new DataFrame for plotting the Ethereum price history purposes only containing the 'Date' and 'Price' Variables as it won't affect the original dataset.\n",
    "\n",
    "We will then seperate the 'Date' variables with a unique DataFrame to convert the variable to datetime which is needed for the 'autofmt_xdate()' functionused to make the plot more readable. \n",
    "\n",
    "Finally we can plot the complete dataset with the updated variables to observe the daily price for Ethereum since it entered the Stock exchange in 2016."
   ]
  },
  {
   "cell_type": "code",
   "execution_count": 3,
   "id": "f82b4130",
   "metadata": {},
   "outputs": [
    {
     "data": {
      "image/png": "[encoded data removed]",
      "text/plain": [
       "<Figure size 432x288 with 1 Axes>"
      ]
     },
     "metadata": {
      "needs_background": "light"
     },
     "output_type": "display_data"
    }
   ],
   "source": [
    "from matplotlib import pyplot as plt\n",
    "\n",
    "## Styling the plots for the project\n",
    "#plt.style.use(style=\"seaborn\")\n",
    "#%matplotlib inline\n",
    "\n",
    "# Creates a new DataFrame containing only the 'Date' \n",
    "# and 'Price' Variables from the dataset\n",
    "Plot_Eth_Price = pd.DataFrame(Eth_Price_Data, columns = ['Date', 'Price'])\n",
    "\n",
    "# Creates a new DataFrame containing only the 'Date' variable\n",
    "# from the above 'Plot_Eth_Price' DataFrame\n",
    "Plot_Eth_Date = Plot_Eth_Price['Date']\n",
    "\n",
    "# Converts the content in the 'Plot_Eth_Date' variable to \n",
    "# datetime. This is needed for the 'autofmt_xdate()' function \n",
    "# used to make the plot of the dataset more readable\n",
    "Plot_Eth_Date = pd.to_datetime(Plot_Eth_Date)\n",
    "\n",
    "plt.title('Ethereum Price History on a daily basis')\n",
    "plt.xlabel('Date')\n",
    "plt.ylabel('Ethereum Price in U.S. Dollers')\n",
    "plt.grid(True)\n",
    "plt.plot(Plot_Eth_Date, Plot_Eth_Price['Price'], color = 'red')\n",
    "plt.gcf().autofmt_xdate()\n",
    "plt.savefig('Ethereum_Price_History.png')\n",
    "\n",
    "plt.show()"
   ]
  },
  {
   "cell_type": "markdown",
   "id": "00964587",
   "metadata": {},
   "source": [
    "### Preparing the dataset for the Model"
   ]
  },
  {
   "cell_type": "markdown",
   "id": "3ce1bdb5",
   "metadata": {},
   "source": [
    "In order to prepare the data for the Regression model we will need remove the unwanted variables. In this case, we will remove 'Vol.' and 'Change'\n",
    "\n",
    "We will also split the 'Eth_Price_Data'DataFrame to eventually create  training and testing set\n",
    "- 'data_X' will contain all the columns except the 'Price'\n",
    "- 'data_Y' will contain only the 'Price' column"
   ]
  },
  {
   "cell_type": "code",
   "execution_count": 4,
   "id": "9bca7719",
   "metadata": {},
   "outputs": [],
   "source": [
    "# Creates a new DataFrame from the dataset that only contains the \n",
    "# 'Price', 'High', 'Low' and 'Open' Columns\n",
    "Eth_Price_Data = Eth_Price_Data[['Price', 'High', 'Low', 'Open']].dropna()\n",
    "\n",
    "# Split the 'Eth_Price_Data' DataFrame to eventually create \n",
    "# training and testing set\n",
    "# 'data_X' will contain all the columns except the 'Price'\n",
    "# 'data_Y' will contain only the 'Price' column\n",
    "data_X = Eth_Price_Data.loc[:,Eth_Price_Data.columns !=  'Price' ]\n",
    "data_Y = Eth_Price_Data['Price']"
   ]
  },
  {
   "cell_type": "markdown",
   "id": "f2049164",
   "metadata": {},
   "source": [
    "### Hypothesis testing"
   ]
  },
  {
   "cell_type": "markdown",
   "id": "74449a7e",
   "metadata": {},
   "source": [
    "One of the main question that needs to be answered before applying Multiple Linear Rgression to a dataset is, does at least one of the indepedent varibales help us in predicting the output.\n",
    "\n",
    "Just a brief over\n",
    "\n",
    "$H_0$: The 'Price' of the crypotocurrency Ethereum at any given day cannot be predicted by the 'Open', 'High' and 'Low' variables from our dataset for that day. The variables refer to the Opening Price, Highest Price and Lowest Price of Ethereum on that day.\n",
    "\n",
    "$$H_0: \\beta_1 = \\beta_2 = \\beta_3 = 0$$\n",
    "\n",
    "$H_A$: The 'Price' of the crypotocurrency Ethereum at any given day cannot be predicted by the 'Open', 'High' and 'Low' variables from our dataset for that day.\n",
    "\n",
    "$$H_A: \\text{At least one } \\beta_i \\text{ is non-zero}$$\n",
    "\n",
    "To perform a hypothesis test on the dataset, we will use the f_regression:"
   ]
  },
  {
   "cell_type": "code",
   "execution_count": 5,
   "id": "e0a40b48",
   "metadata": {},
   "outputs": [],
   "source": [
    "# Imports the 'f_regression' function which computes the F statistics\n",
    "from sklearn.feature_selection import f_regression\n",
    "\n",
    "(F_statistic, p_values) = f_regression(data_X, data_Y)"
   ]
  },
  {
   "cell_type": "markdown",
   "id": "281b7f27",
   "metadata": {},
   "source": [
    "<b>Note:</b>\n",
    "\n",
    "$\\beta_1$ refers to the 'High' Variable influence on the model\n",
    "\n",
    "$\\beta_2$ refers to the 'Low' Variable influence on the model\n",
    "\n",
    "$\\beta_3$ refers to the 'Open' Variable influence on the model"
   ]
  },
  {
   "cell_type": "code",
   "execution_count": 6,
   "id": "5d7ee4a4",
   "metadata": {},
   "outputs": [
    {
     "name": "stdout",
     "output_type": "stream",
     "text": [
      "P-value for beta_1:         0.0\n",
      "P-value for beta_2:         0.0\n",
      "P-value for beta_3:         0.0\n"
     ]
    }
   ],
   "source": [
    "print('P-value for beta_1:        ', p_values[0])\n",
    "print('P-value for beta_2:        ', p_values[1])\n",
    "print('P-value for beta_3:        ', p_values[2])"
   ]
  },
  {
   "cell_type": "markdown",
   "id": "5f66b9ce",
   "metadata": {},
   "source": [
    "The p-values are used for hypothesis test. The 'High', 'Low' and 'Open' variables have a statistically significant p-value. \n",
    "\n",
    "The p-value for all the coefficients either 0 so we can reject the null hypothesis. This basically proves that there is a relationship between the 'High', 'Low' and 'Open' variables can be used to predict the 'Price' of Ethereum on that day."
   ]
  },
  {
   "cell_type": "markdown",
   "id": "7ce09e2a",
   "metadata": {},
   "source": [
    "### Splitting the dataset into training and testing set."
   ]
  },
  {
   "cell_type": "markdown",
   "id": "57114c8c",
   "metadata": {},
   "source": [
    "Scikit Learn has a function 'train_test_split' which we will use to split the dataset into two categories: training and testing set. It will create four seperarte arrays based on these splits:  train_X, test_X, train_Y, test_Y.\n",
    "\n",
    "In this case, we are randomly putting 75% of the dataset into the training set and the remaining 25% into our testing set. The random nature in this process helps to vary the type of data in each set."
   ]
  },
  {
   "cell_type": "code",
   "execution_count": 7,
   "id": "9694792d",
   "metadata": {},
   "outputs": [],
   "source": [
    "from sklearn.model_selection import train_test_split\n",
    "\n",
    "# Splitting the dataset into training and testing set\n",
    "train_X, test_X, train_Y, test_Y = train_test_split(data_X, data_Y, test_size=0.25, random_state=0)"
   ]
  },
  {
   "cell_type": "markdown",
   "id": "29a45744",
   "metadata": {},
   "source": [
    "### Training the model with our Training set"
   ]
  },
  {
   "cell_type": "markdown",
   "id": "fd4cb263",
   "metadata": {},
   "source": [
    "Implementing linear regression with Scikit learn to the training set from our dataset. \n",
    "\n",
    "The 'LinearRegression' function fits the linear model with coefficients ($\\beta_1, ..., \\beta_p$) to minimise the residual sum of squares between the outputs and the independent variables in the dataset."
   ]
  },
  {
   "cell_type": "markdown",
   "id": "7ef27a5d",
   "metadata": {},
   "source": [
    "Here we create a Linear Regressor model object and subsequently trains our regression model with our training set with the fit() method."
   ]
  },
  {
   "cell_type": "code",
   "execution_count": 8,
   "id": "8d94fdf7",
   "metadata": {},
   "outputs": [
    {
     "data": {
      "text/plain": [
       "LinearRegression()"
      ]
     },
     "execution_count": 8,
     "metadata": {},
     "output_type": "execute_result"
    }
   ],
   "source": [
    "from sklearn.linear_model import LinearRegression\n",
    "\n",
    "# Trains the model on our training dataset\n",
    "regressor = LinearRegression()\n",
    "regressor.fit(train_X,train_Y)"
   ]
  },
  {
   "cell_type": "markdown",
   "id": "91a977ce",
   "metadata": {},
   "source": [
    "Our final linear regression model will be:\n",
    "\n",
    "$ price = \\beta_0  + \\beta_1 . High + \\beta_2 . Low + \\beta_3. Open$\n",
    "\n",
    "where\n",
    "\n",
    "$ \\beta_0 $ is the intercept\n",
    "\n",
    "and\n",
    "\n",
    "$ \\beta_1 $, $ \\beta_2 $ and $ \\beta_3 $ are the coefficients"
   ]
  },
  {
   "cell_type": "markdown",
   "id": "4a6a4669",
   "metadata": {},
   "source": [
    "### Testing the model with our Testing set"
   ]
  },
  {
   "cell_type": "markdown",
   "id": "9be2ce4f",
   "metadata": {},
   "source": [
    "We will now test our model to predict the values for our testing set. This is done with the '.predict' method from Scikit-Learn.\n",
    "\n",
    "Once our model has finished predicting the price values, we can measure the performance the accuracy of the model using Scikit-Learn's 'r2_score' function."
   ]
  },
  {
   "cell_type": "code",
   "execution_count": 9,
   "id": "aa871877",
   "metadata": {},
   "outputs": [
    {
     "name": "stdout",
     "output_type": "stream",
     "text": [
      "Accuracy score with our test set:  0.9992289474063466\n",
      "Intercept:  -0.1380558838586694\n",
      "Coefficients: \n",
      "\n",
      "[ 0.92015022  0.65675643 -0.58033529]\n",
      "\n"
     ]
    },
    {
     "data": {
      "text/html": [
       "<div>\n",
       "<style scoped>\n",
       "    .dataframe tbody tr th:only-of-type {\n",
       "        vertical-align: middle;\n",
       "    }\n",
       "\n",
       "    .dataframe tbody tr th {\n",
       "        vertical-align: top;\n",
       "    }\n",
       "\n",
       "    .dataframe thead th {\n",
       "        text-align: right;\n",
       "    }\n",
       "</style>\n",
       "<table border=\"1\" class=\"dataframe\">\n",
       "  <thead>\n",
       "    <tr style=\"text-align: right;\">\n",
       "      <th></th>\n",
       "      <th>Coefficient</th>\n",
       "    </tr>\n",
       "  </thead>\n",
       "  <tbody>\n",
       "    <tr>\n",
       "      <th>High</th>\n",
       "      <td>0.920150</td>\n",
       "    </tr>\n",
       "    <tr>\n",
       "      <th>Low</th>\n",
       "      <td>0.656756</td>\n",
       "    </tr>\n",
       "    <tr>\n",
       "      <th>Open</th>\n",
       "      <td>-0.580335</td>\n",
       "    </tr>\n",
       "  </tbody>\n",
       "</table>\n",
       "</div>"
      ],
      "text/plain": [
       "      Coefficient\n",
       "High     0.920150\n",
       "Low      0.656756\n",
       "Open    -0.580335"
      ]
     },
     "execution_count": 9,
     "metadata": {},
     "output_type": "execute_result"
    }
   ],
   "source": [
    "import numpy as np\n",
    "\n",
    "# Use the model to predict the values for our testing set\n",
    "predict_Y = regressor.predict(test_X)\n",
    "\n",
    "print('Accuracy score with our test set: ' , regressor.score(test_X,test_Y))\n",
    "\n",
    "## The intercept is the expected mean value of Y when all X=0\n",
    "print('Intercept: ', regressor.intercept_)\n",
    "\n",
    "# Coefficient are the weights\n",
    "print('Coefficients: \\n')\n",
    "print(regressor.coef_)\n",
    "\n",
    "print('')\n",
    "\n",
    "coefficients = pd.DataFrame(regressor.coef_, train_X.columns, columns=['Coefficient'])\n",
    "coefficients \n"
   ]
  },
  {
   "cell_type": "markdown",
   "id": "09595d8b",
   "metadata": {},
   "source": [
    "From our results, the 'High' variables has the greatest influence on the price of Ethereum on a given day as it has a $\\beta$ coefficient of over 0.9.\n",
    "\n",
    "The model appears to perform really well with a $R^2$ score of over 99% which indicates that the model is relatively good at predicting Ethereums price give the highest price, lowest price and opening price on a given day."
   ]
  },
  {
   "cell_type": "markdown",
   "id": "2ce3c508",
   "metadata": {},
   "source": [
    "### Evaluating the model"
   ]
  },
  {
   "cell_type": "markdown",
   "id": "af0cd52f",
   "metadata": {},
   "source": [
    "Evalulating the model is essential in understanding the perdormance for both the user and developer.\n",
    "\n",
    "The evaluation metrics used in the project:\n",
    "- Coefficient of Deterimintion on testing set\n",
    "- Mean Squared Error (MSE)/Root Mean Squared Error (RMSE)\n",
    "- Mean Absolute Error (MAE)\n",
    "- Adjusted R2 Squared\n",
    "\n",
    "Below, we will use Scikit-Learns '.metrics' method to easily canculate the models metrics."
   ]
  },
  {
   "cell_type": "code",
   "execution_count": 10,
   "id": "a5003673",
   "metadata": {},
   "outputs": [
    {
     "name": "stdout",
     "output_type": "stream",
     "text": [
      "Coefficient of Determination on training:  0.9992289474063466\n",
      "Mean Squared Error:                        391.1387125906281\n",
      "Root Mean Squared Error:                   19.77722712087385\n",
      "Mean Absolute Error:                       8.096399055124106\n",
      "Adjusted R2 Squared:                       0.9992242743603245\n",
      "Mean Absolute Percentage Error:            0.01635415475872566\n"
     ]
    }
   ],
   "source": [
    "from sklearn.metrics import mean_squared_error, r2_score\n",
    "from sklearn.metrics import mean_absolute_error, mean_absolute_percentage_error\n",
    "\n",
    "\n",
    "# Calculates the mean absolute error of our model\n",
    "meanAbError = mean_absolute_error(test_Y, predict_Y)\n",
    "\n",
    "meanPerAbError = mean_absolute_percentage_error(test_Y, predict_Y)\n",
    "\n",
    "# Calculates the mean squared error of our model\n",
    "meanSqError = mean_squared_error(test_Y, predict_Y)\n",
    "\n",
    "# Calculates the R2 score of our model\n",
    "r2 = r2_score(test_Y, predict_Y) # R2 Score\n",
    "\n",
    "# Calculates the adjusted R2 score of our  model\n",
    "n = len(test_X)        # Number of data points in our testing set\n",
    "p = 3                  # Number of independent variables used in model\n",
    "adjusted_r2 = 1 - ((1-r2) * (n-1) / (n-p-1))\n",
    "\n",
    "print('Coefficient of Determination on training: ', r2)\n",
    "print('Mean Squared Error:                       ', meanSqError)\n",
    "print('Root Mean Squared Error:                  ', np.sqrt(meanSqError))\n",
    "print('Mean Absolute Error:                      ', meanAbError)\n",
    "print('Adjusted R2 Squared:                      ', adjusted_r2)\n",
    "\n",
    "print('Mean Absolute Percentage Error:           ', meanPerAbError)"
   ]
  },
  {
   "cell_type": "markdown",
   "id": "6ce84683",
   "metadata": {},
   "source": [
    "The model performs pretty well on our dataset.\n",
    "\n",
    "- The $R^2$ metric for the model on the training set is 0.99922 which indicates that it is really likely that the output will be close to the predicted value.\n",
    "- The Root Mean Squared Error is over double the Mean Absolute Error metric which would lead us to the conclusion that the model predicted the price under what it actually was. This would be that if our model trading each day, it would have made a profit more then it would have lost money."
   ]
  },
  {
   "cell_type": "markdown",
   "id": "d2a8d684",
   "metadata": {},
   "source": [
    "<b>Residual Plots</b>\n",
    "\n",
    "Residual plots are useful for visualising the errors in your data. If you did a good job your data should be randomly scattered around line zero."
   ]
  },
  {
   "cell_type": "code",
   "execution_count": 13,
   "id": "98e90cc1",
   "metadata": {},
   "outputs": [
    {
     "data": {
      "image/png": "[encoded data removed]",
      "text/plain": [
       "<Figure size 432x288 with 1 Axes>"
      ]
     },
     "metadata": {
      "needs_background": "light"
     },
     "output_type": "display_data"
    }
   ],
   "source": [
    "# Plotting the residual error\n",
    "# Plotting the rediual errors in the training data\n",
    "plt.scatter(regressor.predict(train_X), regressor.predict(train_X) - train_Y, color = 'green', s = 10, label = 'Training data')\n",
    "\n",
    "# Plotting the rediual errors in the testing data\n",
    "plt.scatter(regressor.predict(test_X), regressor.predict(test_X) - test_Y, color = 'blue', s = 10, label = 'Testing data')\n",
    "\n",
    "# Plotting line for zero residual error\n",
    "plt.hlines(y = 0, xmin = 0, xmax = 4250, linewidth = 2, linestyles = '--', color = 'gray')\n",
    "\n",
    "plt.legend(loc = 'upper right')\n",
    "plt.title('Residual errors')\n",
    "plt.xlabel('Price of Ethereum')\n",
    "plt.ylabel('Residuals')\n",
    "plt.grid(True)\n",
    "\n",
    "plt.show()"
   ]
  },
  {
   "cell_type": "markdown",
   "id": "07b83923",
   "metadata": {},
   "source": [
    "The residual errors are larger as the price of Ethereums grows in value. This is underdstandable as higher values of the price have a larger error even with the same performance from the model.\n",
    "\n",
    "Toward the end of the plot, it shows that the model makes less accurate predictions as the price of ethereum increases. This is most likely due to the fact that the price of Ethereum drastically increased on a short period of time. For example, the price of Ethereum grow by over 25 times in a period of 14 months which is unprecedented starting from the March 2020. It would be unrealistic for our model to be able to adjust for such a change appropriately."
   ]
  },
  {
   "cell_type": "markdown",
   "id": "dbed8a54",
   "metadata": {},
   "source": [
    "<b>We will plot both the 'Open' price and Predicted price vs the closing price.</b>"
   ]
  },
  {
   "cell_type": "code",
   "execution_count": 14,
   "id": "33bf913f",
   "metadata": {},
   "outputs": [
    {
     "data": {
      "image/png": "[encoded data removed]",
      "text/plain": [
       "<Figure size 432x288 with 1 Axes>"
      ]
     },
     "metadata": {
      "needs_background": "light"
     },
     "output_type": "display_data"
    }
   ],
   "source": [
    "# Plot the opening price values and the closing price values\n",
    "\n",
    "plt.title('Ethereum Stock: Open Price vs Closing Price')\n",
    "plt.xlabel('Open Price')\n",
    "plt.ylabel('Close Price')\n",
    "plt.grid(True)\n",
    "plt.scatter(test_X['Open'], test_Y, marker='o', c= 'green');\n",
    "\n",
    "plt.show()"
   ]
  },
  {
   "cell_type": "code",
   "execution_count": 15,
   "id": "84b5b595",
   "metadata": {},
   "outputs": [
    {
     "data": {
      "image/png": "[encoded data removed]",
      "text/plain": [
       "<Figure size 432x288 with 1 Axes>"
      ]
     },
     "metadata": {
      "needs_background": "light"
     },
     "output_type": "display_data"
    }
   ],
   "source": [
    "# Plot the predicted and the expected values\n",
    "\n",
    "plt.title('Ethereum Stock: Open Price vs Predicted Price')\n",
    "plt.xlabel('Open Price')\n",
    "plt.ylabel('Predicted Price')\n",
    "plt.grid(True)\n",
    "plt.scatter(test_X['Open'], predict_Y, marker='o', c='blue');\n",
    "plt.show()"
   ]
  },
  {
   "cell_type": "markdown",
   "id": "b37219f1",
   "metadata": {},
   "source": [
    "Both plots are done seperately because the data overlaps too much. It just goes to show how similar they are."
   ]
  },
  {
   "cell_type": "markdown",
   "id": "9d098b32",
   "metadata": {},
   "source": [
    "Finally, we will create a new DataFrame containing all the actual prices and the predicted prices in our testing set."
   ]
  },
  {
   "cell_type": "code",
   "execution_count": 16,
   "id": "8f40647e",
   "metadata": {},
   "outputs": [
    {
     "data": {
      "text/html": [
       "<div>\n",
       "<style scoped>\n",
       "    .dataframe tbody tr th:only-of-type {\n",
       "        vertical-align: middle;\n",
       "    }\n",
       "\n",
       "    .dataframe tbody tr th {\n",
       "        vertical-align: top;\n",
       "    }\n",
       "\n",
       "    .dataframe thead th {\n",
       "        text-align: right;\n",
       "    }\n",
       "</style>\n",
       "<table border=\"1\" class=\"dataframe\">\n",
       "  <thead>\n",
       "    <tr style=\"text-align: right;\">\n",
       "      <th></th>\n",
       "      <th>Actual Price</th>\n",
       "      <th>Predicted Price</th>\n",
       "      <th>Difference</th>\n",
       "    </tr>\n",
       "    <tr>\n",
       "      <th>SNo</th>\n",
       "      <th></th>\n",
       "      <th></th>\n",
       "      <th></th>\n",
       "    </tr>\n",
       "  </thead>\n",
       "  <tbody>\n",
       "    <tr>\n",
       "      <th>1806</th>\n",
       "      <td>1847.95</td>\n",
       "      <td>1810.929726</td>\n",
       "      <td>-37.020274</td>\n",
       "    </tr>\n",
       "    <tr>\n",
       "      <th>1312</th>\n",
       "      <td>179.87</td>\n",
       "      <td>182.226820</td>\n",
       "      <td>2.356820</td>\n",
       "    </tr>\n",
       "    <tr>\n",
       "      <th>961</th>\n",
       "      <td>204.58</td>\n",
       "      <td>207.129645</td>\n",
       "      <td>2.549645</td>\n",
       "    </tr>\n",
       "    <tr>\n",
       "      <th>108</th>\n",
       "      <td>14.31</td>\n",
       "      <td>14.301431</td>\n",
       "      <td>-0.008569</td>\n",
       "    </tr>\n",
       "    <tr>\n",
       "      <th>1558</th>\n",
       "      <td>232.02</td>\n",
       "      <td>232.441585</td>\n",
       "      <td>0.421585</td>\n",
       "    </tr>\n",
       "    <tr>\n",
       "      <th>...</th>\n",
       "      <td>...</td>\n",
       "      <td>...</td>\n",
       "      <td>...</td>\n",
       "    </tr>\n",
       "    <tr>\n",
       "      <th>1410</th>\n",
       "      <td>174.19</td>\n",
       "      <td>174.662326</td>\n",
       "      <td>0.472326</td>\n",
       "    </tr>\n",
       "    <tr>\n",
       "      <th>1617</th>\n",
       "      <td>387.12</td>\n",
       "      <td>379.091575</td>\n",
       "      <td>-8.028425</td>\n",
       "    </tr>\n",
       "    <tr>\n",
       "      <th>1175</th>\n",
       "      <td>271.18</td>\n",
       "      <td>270.377493</td>\n",
       "      <td>-0.802507</td>\n",
       "    </tr>\n",
       "    <tr>\n",
       "      <th>598</th>\n",
       "      <td>293.49</td>\n",
       "      <td>290.922225</td>\n",
       "      <td>-2.567775</td>\n",
       "    </tr>\n",
       "    <tr>\n",
       "      <th>814</th>\n",
       "      <td>579.30</td>\n",
       "      <td>578.498699</td>\n",
       "      <td>-0.801301</td>\n",
       "    </tr>\n",
       "  </tbody>\n",
       "</table>\n",
       "<p>499 rows × 3 columns</p>\n",
       "</div>"
      ],
      "text/plain": [
       "      Actual Price  Predicted Price  Difference\n",
       "SNo                                            \n",
       "1806       1847.95      1810.929726  -37.020274\n",
       "1312        179.87       182.226820    2.356820\n",
       "961         204.58       207.129645    2.549645\n",
       "108          14.31        14.301431   -0.008569\n",
       "1558        232.02       232.441585    0.421585\n",
       "...            ...              ...         ...\n",
       "1410        174.19       174.662326    0.472326\n",
       "1617        387.12       379.091575   -8.028425\n",
       "1175        271.18       270.377493   -0.802507\n",
       "598         293.49       290.922225   -2.567775\n",
       "814         579.30       578.498699   -0.801301\n",
       "\n",
       "[499 rows x 3 columns]"
      ]
     },
     "execution_count": 16,
     "metadata": {},
     "output_type": "execute_result"
    }
   ],
   "source": [
    "model_result = pd.DataFrame({'Actual Price' :test_Y, 'Predicted Price' :predict_Y, 'Difference' :predict_Y-test_Y })\n",
    "\n",
    "model_result"
   ]
  },
  {
   "cell_type": "code",
   "execution_count": 17,
   "id": "17e5cdc0",
   "metadata": {},
   "outputs": [
    {
     "name": "stdout",
     "output_type": "stream",
     "text": [
      "Number of days of data in our test set:           499\n",
      "Sum of the Differences between our Predicted\n",
      "Prices and Acutal Prices:                         738.8763100542479\n",
      "Average Difference between the predicted\n",
      "Price and the Actual Price:                        1.4807140482049057\n"
     ]
    }
   ],
   "source": [
    "print('Number of days of data in our test set:          ', len(test_Y))\n",
    "print('Sum of the Differences between our Predicted') \n",
    "print('Prices and Acutal Prices:                        ', sum(model_result['Difference']))\n",
    "\n",
    "# Calculates the average difference between the predicted\n",
    "# price and the actual price\n",
    "avg_diff = sum(model_result['Difference']) / len(model_result['Difference'])\n",
    "\n",
    "print('Average Difference between the predicted')\n",
    "print('Price and the Actual Price:                       ', avg_diff)"
   ]
  },
  {
   "cell_type": "markdown",
   "id": "1ec6770d",
   "metadata": {},
   "source": [
    "The model suggests that the high-price, low-price and open-price are indicative of the closing price of the same day. Based on the found coefficients, we conclude that the high-price is most influential on the closing price."
   ]
  },
  {
   "cell_type": "markdown",
   "id": "f4009465",
   "metadata": {},
   "source": [
    "-------------------------------------------------------"
   ]
  },
  {
   "cell_type": "markdown",
   "id": "c2d0a2d8",
   "metadata": {},
   "source": [
    "## Testing of our model with a validation set"
   ]
  },
  {
   "cell_type": "markdown",
   "id": "94f83617",
   "metadata": {},
   "source": [
    "Further testing of our model with a validation set will elaborate the usefullness of the model for predicting the price of Ethereum at a more current period of time. "
   ]
  },
  {
   "cell_type": "code",
   "execution_count": 18,
   "id": "2c1534f7",
   "metadata": {},
   "outputs": [
    {
     "data": {
      "text/html": [
       "<div>\n",
       "<style scoped>\n",
       "    .dataframe tbody tr th:only-of-type {\n",
       "        vertical-align: middle;\n",
       "    }\n",
       "\n",
       "    .dataframe tbody tr th {\n",
       "        vertical-align: top;\n",
       "    }\n",
       "\n",
       "    .dataframe thead th {\n",
       "        text-align: right;\n",
       "    }\n",
       "</style>\n",
       "<table border=\"1\" class=\"dataframe\">\n",
       "  <thead>\n",
       "    <tr style=\"text-align: right;\">\n",
       "      <th></th>\n",
       "      <th>Date</th>\n",
       "      <th>Price</th>\n",
       "      <th>Open</th>\n",
       "      <th>High</th>\n",
       "      <th>Low</th>\n",
       "      <th>Vol.</th>\n",
       "      <th>Change %</th>\n",
       "    </tr>\n",
       "  </thead>\n",
       "  <tbody>\n",
       "    <tr>\n",
       "      <th>0</th>\n",
       "      <td>2021-11-13</td>\n",
       "      <td>4688.46</td>\n",
       "      <td>4665.76</td>\n",
       "      <td>4705.02</td>\n",
       "      <td>4585.37</td>\n",
       "      <td>377110</td>\n",
       "      <td>0.45%</td>\n",
       "    </tr>\n",
       "    <tr>\n",
       "      <th>1</th>\n",
       "      <td>2021-11-12</td>\n",
       "      <td>4667.31</td>\n",
       "      <td>4720.50</td>\n",
       "      <td>4807.16</td>\n",
       "      <td>4511.96</td>\n",
       "      <td>634590</td>\n",
       "      <td>-1.13%</td>\n",
       "    </tr>\n",
       "    <tr>\n",
       "      <th>2</th>\n",
       "      <td>2021-11-11</td>\n",
       "      <td>4720.87</td>\n",
       "      <td>4633.98</td>\n",
       "      <td>4778.17</td>\n",
       "      <td>4578.66</td>\n",
       "      <td>418610</td>\n",
       "      <td>1.87%</td>\n",
       "    </tr>\n",
       "    <tr>\n",
       "      <th>3</th>\n",
       "      <td>2021-11-10</td>\n",
       "      <td>4634.03</td>\n",
       "      <td>4731.83</td>\n",
       "      <td>4864.06</td>\n",
       "      <td>4498.78</td>\n",
       "      <td>761900</td>\n",
       "      <td>-2.07%</td>\n",
       "    </tr>\n",
       "    <tr>\n",
       "      <th>4</th>\n",
       "      <td>2021-11-09</td>\n",
       "      <td>4731.83</td>\n",
       "      <td>4808.34</td>\n",
       "      <td>4836.69</td>\n",
       "      <td>4715.43</td>\n",
       "      <td>437410</td>\n",
       "      <td>-1.59%</td>\n",
       "    </tr>\n",
       "    <tr>\n",
       "      <th>5</th>\n",
       "      <td>2021-11-08</td>\n",
       "      <td>4808.38</td>\n",
       "      <td>4612.05</td>\n",
       "      <td>4822.97</td>\n",
       "      <td>4612.05</td>\n",
       "      <td>673210</td>\n",
       "      <td>4.26%</td>\n",
       "    </tr>\n",
       "    <tr>\n",
       "      <th>6</th>\n",
       "      <td>2021-11-07</td>\n",
       "      <td>4612.06</td>\n",
       "      <td>4517.27</td>\n",
       "      <td>4634.39</td>\n",
       "      <td>4502.70</td>\n",
       "      <td>337810</td>\n",
       "      <td>2.10%</td>\n",
       "    </tr>\n",
       "    <tr>\n",
       "      <th>7</th>\n",
       "      <td>2021-11-06</td>\n",
       "      <td>4517.36</td>\n",
       "      <td>4475.00</td>\n",
       "      <td>4526.75</td>\n",
       "      <td>4330.29</td>\n",
       "      <td>442600</td>\n",
       "      <td>0.95%</td>\n",
       "    </tr>\n",
       "    <tr>\n",
       "      <th>8</th>\n",
       "      <td>2021-11-05</td>\n",
       "      <td>4475.00</td>\n",
       "      <td>4534.96</td>\n",
       "      <td>4569.31</td>\n",
       "      <td>4439.67</td>\n",
       "      <td>409750</td>\n",
       "      <td>-1.33%</td>\n",
       "    </tr>\n",
       "    <tr>\n",
       "      <th>9</th>\n",
       "      <td>2021-11-04</td>\n",
       "      <td>4535.11</td>\n",
       "      <td>4601.93</td>\n",
       "      <td>4604.83</td>\n",
       "      <td>4421.87</td>\n",
       "      <td>495860</td>\n",
       "      <td>-1.46%</td>\n",
       "    </tr>\n",
       "    <tr>\n",
       "      <th>10</th>\n",
       "      <td>2021-11-03</td>\n",
       "      <td>4602.21</td>\n",
       "      <td>4586.96</td>\n",
       "      <td>4661.88</td>\n",
       "      <td>4458.87</td>\n",
       "      <td>634680</td>\n",
       "      <td>0.35%</td>\n",
       "    </tr>\n",
       "    <tr>\n",
       "      <th>11</th>\n",
       "      <td>2021-11-02</td>\n",
       "      <td>4586.06</td>\n",
       "      <td>4320.85</td>\n",
       "      <td>4598.38</td>\n",
       "      <td>4287.36</td>\n",
       "      <td>630260</td>\n",
       "      <td>6.14%</td>\n",
       "    </tr>\n",
       "    <tr>\n",
       "      <th>12</th>\n",
       "      <td>2021-11-01</td>\n",
       "      <td>4320.85</td>\n",
       "      <td>4287.41</td>\n",
       "      <td>4376.94</td>\n",
       "      <td>4157.51</td>\n",
       "      <td>574260</td>\n",
       "      <td>0.78%</td>\n",
       "    </tr>\n",
       "    <tr>\n",
       "      <th>13</th>\n",
       "      <td>2021-10-31</td>\n",
       "      <td>4287.56</td>\n",
       "      <td>4322.00</td>\n",
       "      <td>4393.61</td>\n",
       "      <td>4169.48</td>\n",
       "      <td>555320</td>\n",
       "      <td>-0.77%</td>\n",
       "    </tr>\n",
       "    <tr>\n",
       "      <th>14</th>\n",
       "      <td>2021-10-30</td>\n",
       "      <td>4320.65</td>\n",
       "      <td>4413.70</td>\n",
       "      <td>4428.41</td>\n",
       "      <td>4250.24</td>\n",
       "      <td>494870</td>\n",
       "      <td>-2.11%</td>\n",
       "    </tr>\n",
       "  </tbody>\n",
       "</table>\n",
       "</div>"
      ],
      "text/plain": [
       "          Date    Price     Open     High      Low    Vol. Change %\n",
       "0   2021-11-13  4688.46  4665.76  4705.02  4585.37  377110    0.45%\n",
       "1   2021-11-12  4667.31  4720.50  4807.16  4511.96  634590   -1.13%\n",
       "2   2021-11-11  4720.87  4633.98  4778.17  4578.66  418610    1.87%\n",
       "3   2021-11-10  4634.03  4731.83  4864.06  4498.78  761900   -2.07%\n",
       "4   2021-11-09  4731.83  4808.34  4836.69  4715.43  437410   -1.59%\n",
       "5   2021-11-08  4808.38  4612.05  4822.97  4612.05  673210    4.26%\n",
       "6   2021-11-07  4612.06  4517.27  4634.39  4502.70  337810    2.10%\n",
       "7   2021-11-06  4517.36  4475.00  4526.75  4330.29  442600    0.95%\n",
       "8   2021-11-05  4475.00  4534.96  4569.31  4439.67  409750   -1.33%\n",
       "9   2021-11-04  4535.11  4601.93  4604.83  4421.87  495860   -1.46%\n",
       "10  2021-11-03  4602.21  4586.96  4661.88  4458.87  634680    0.35%\n",
       "11  2021-11-02  4586.06  4320.85  4598.38  4287.36  630260    6.14%\n",
       "12  2021-11-01  4320.85  4287.41  4376.94  4157.51  574260    0.78%\n",
       "13  2021-10-31  4287.56  4322.00  4393.61  4169.48  555320   -0.77%\n",
       "14  2021-10-30  4320.65  4413.70  4428.41  4250.24  494870   -2.11%"
      ]
     },
     "execution_count": 18,
     "metadata": {},
     "output_type": "execute_result"
    }
   ],
   "source": [
    "# Loading the validation set 'Ethereum_Validation_Set.csv'\n",
    "validation_set = pd.read_csv('Ethereum_Validation_Set.csv')\n",
    "\n",
    "# Issolating the actual price of the data in the \n",
    "# validation set\n",
    "validation_actual_output = validation_set['Price']\n",
    "\n",
    "# Prints the first 15 rows from the validation\n",
    "validation_set.head(15)"
   ]
  },
  {
   "cell_type": "code",
   "execution_count": 19,
   "id": "ec178c70",
   "metadata": {},
   "outputs": [
    {
     "data": {
      "text/html": [
       "<div>\n",
       "<style scoped>\n",
       "    .dataframe tbody tr th:only-of-type {\n",
       "        vertical-align: middle;\n",
       "    }\n",
       "\n",
       "    .dataframe tbody tr th {\n",
       "        vertical-align: top;\n",
       "    }\n",
       "\n",
       "    .dataframe thead th {\n",
       "        text-align: right;\n",
       "    }\n",
       "</style>\n",
       "<table border=\"1\" class=\"dataframe\">\n",
       "  <thead>\n",
       "    <tr style=\"text-align: right;\">\n",
       "      <th></th>\n",
       "      <th>Date</th>\n",
       "      <th>Actual Price</th>\n",
       "      <th>Predicted Price</th>\n",
       "      <th>Difference</th>\n",
       "    </tr>\n",
       "  </thead>\n",
       "  <tbody>\n",
       "    <tr>\n",
       "      <th>0</th>\n",
       "      <td>2021-11-13</td>\n",
       "      <td>4688.46</td>\n",
       "      <td>4632.953195</td>\n",
       "      <td>-55.506805</td>\n",
       "    </tr>\n",
       "    <tr>\n",
       "      <th>1</th>\n",
       "      <td>2021-11-12</td>\n",
       "      <td>4667.31</td>\n",
       "      <td>4646.957295</td>\n",
       "      <td>-20.352705</td>\n",
       "    </tr>\n",
       "    <tr>\n",
       "      <th>2</th>\n",
       "      <td>2021-11-11</td>\n",
       "      <td>4720.87</td>\n",
       "      <td>4714.298404</td>\n",
       "      <td>-6.571596</td>\n",
       "    </tr>\n",
       "    <tr>\n",
       "      <th>3</th>\n",
       "      <td>2021-11-10</td>\n",
       "      <td>4634.03</td>\n",
       "      <td>4684.082594</td>\n",
       "      <td>50.052594</td>\n",
       "    </tr>\n",
       "    <tr>\n",
       "      <th>4</th>\n",
       "      <td>2021-11-09</td>\n",
       "      <td>4731.83</td>\n",
       "      <td>4756.782911</td>\n",
       "      <td>24.952911</td>\n",
       "    </tr>\n",
       "    <tr>\n",
       "      <th>5</th>\n",
       "      <td>2021-11-08</td>\n",
       "      <td>4808.38</td>\n",
       "      <td>4790.176984</td>\n",
       "      <td>-18.203016</td>\n",
       "    </tr>\n",
       "    <tr>\n",
       "      <th>6</th>\n",
       "      <td>2021-11-07</td>\n",
       "      <td>4612.06</td>\n",
       "      <td>4599.842918</td>\n",
       "      <td>-12.217082</td>\n",
       "    </tr>\n",
       "    <tr>\n",
       "      <th>7</th>\n",
       "      <td>2021-11-06</td>\n",
       "      <td>4517.36</td>\n",
       "      <td>4412.097344</td>\n",
       "      <td>-105.262656</td>\n",
       "    </tr>\n",
       "    <tr>\n",
       "      <th>8</th>\n",
       "      <td>2021-11-05</td>\n",
       "      <td>4475.00</td>\n",
       "      <td>4488.298053</td>\n",
       "      <td>13.298053</td>\n",
       "    </tr>\n",
       "    <tr>\n",
       "      <th>9</th>\n",
       "      <td>2021-11-04</td>\n",
       "      <td>4535.11</td>\n",
       "      <td>4470.426469</td>\n",
       "      <td>-64.683531</td>\n",
       "    </tr>\n",
       "    <tr>\n",
       "      <th>10</th>\n",
       "      <td>2021-11-03</td>\n",
       "      <td>4602.21</td>\n",
       "      <td>4555.908647</td>\n",
       "      <td>-46.301353</td>\n",
       "    </tr>\n",
       "    <tr>\n",
       "      <th>11</th>\n",
       "      <td>2021-11-02</td>\n",
       "      <td>4586.06</td>\n",
       "      <td>4539.271836</td>\n",
       "      <td>-46.788164</td>\n",
       "    </tr>\n",
       "    <tr>\n",
       "      <th>12</th>\n",
       "      <td>2021-11-01</td>\n",
       "      <td>4320.85</td>\n",
       "      <td>4269.640360</td>\n",
       "      <td>-51.209640</td>\n",
       "    </tr>\n",
       "    <tr>\n",
       "      <th>13</th>\n",
       "      <td>2021-10-31</td>\n",
       "      <td>4287.56</td>\n",
       "      <td>4272.766841</td>\n",
       "      <td>-14.793159</td>\n",
       "    </tr>\n",
       "    <tr>\n",
       "      <th>14</th>\n",
       "      <td>2021-10-30</td>\n",
       "      <td>4320.65</td>\n",
       "      <td>4304.610973</td>\n",
       "      <td>-16.039027</td>\n",
       "    </tr>\n",
       "    <tr>\n",
       "      <th>15</th>\n",
       "      <td>2021-10-29</td>\n",
       "      <td>4413.70</td>\n",
       "      <td>4418.663361</td>\n",
       "      <td>4.963361</td>\n",
       "    </tr>\n",
       "  </tbody>\n",
       "</table>\n",
       "</div>"
      ],
      "text/plain": [
       "          Date  Actual Price  Predicted Price  Difference\n",
       "0   2021-11-13       4688.46      4632.953195  -55.506805\n",
       "1   2021-11-12       4667.31      4646.957295  -20.352705\n",
       "2   2021-11-11       4720.87      4714.298404   -6.571596\n",
       "3   2021-11-10       4634.03      4684.082594   50.052594\n",
       "4   2021-11-09       4731.83      4756.782911   24.952911\n",
       "5   2021-11-08       4808.38      4790.176984  -18.203016\n",
       "6   2021-11-07       4612.06      4599.842918  -12.217082\n",
       "7   2021-11-06       4517.36      4412.097344 -105.262656\n",
       "8   2021-11-05       4475.00      4488.298053   13.298053\n",
       "9   2021-11-04       4535.11      4470.426469  -64.683531\n",
       "10  2021-11-03       4602.21      4555.908647  -46.301353\n",
       "11  2021-11-02       4586.06      4539.271836  -46.788164\n",
       "12  2021-11-01       4320.85      4269.640360  -51.209640\n",
       "13  2021-10-31       4287.56      4272.766841  -14.793159\n",
       "14  2021-10-30       4320.65      4304.610973  -16.039027\n",
       "15  2021-10-29       4413.70      4418.663361    4.963361"
      ]
     },
     "execution_count": 19,
     "metadata": {},
     "output_type": "execute_result"
    }
   ],
   "source": [
    "# Loading the validation set \n",
    "# Removing all the unnecessary columns from the validation set\n",
    "validating_set = pd.DataFrame(validation_set[['High', 'Low', 'Open']])\n",
    "\n",
    "# Use the original model to predict the 'Price' of\n",
    "# of Ethereum on new dates\n",
    "validation_Y = regressor.predict(validating_set)\n",
    "\n",
    "# Creates a new DataFrame containing all the results from our model\n",
    "validation_result = pd.DataFrame({'Date' :validation_set['Date'], 'Actual Price' :validation_actual_output, 'Predicted Price' :validation_Y, 'Difference' :validation_Y-validation_actual_output })\n",
    "\n",
    "validation_result"
   ]
  },
  {
   "cell_type": "code",
   "execution_count": 20,
   "id": "8c1219ad",
   "metadata": {},
   "outputs": [
    {
     "name": "stdout",
     "output_type": "stream",
     "text": [
      "R2 Score of model on the validation set:  0.9199773264059619\n"
     ]
    }
   ],
   "source": [
    "val_r2 = r2_score(validation_actual_output, validation_Y) # R2 Score\n",
    "print('R2 Score of model on the validation set: ' , val_r2)"
   ]
  },
  {
   "cell_type": "markdown",
   "id": "7d1d90ec",
   "metadata": {},
   "source": [
    "Getting some more information about our results:"
   ]
  },
  {
   "cell_type": "code",
   "execution_count": 21,
   "id": "cae95659",
   "metadata": {},
   "outputs": [
    {
     "name": "stdout",
     "output_type": "stream",
     "text": [
      "Number of days of data in our validation set:      16\n",
      "Sum of the Differences between the Predicted\n",
      "Price and Acutal Price:                            -364.66181517900804\n",
      "Average Difference between the predicted\n",
      "price and the acutal Price:                        -22.791363448688003\n"
     ]
    }
   ],
   "source": [
    "print('Number of days of data in our validation set:     ', len(validating_set['High']))\n",
    "print('Sum of the Differences between the Predicted')\n",
    "print('Price and Acutal Price:                           ', sum(validation_result['Difference']))\n",
    "\n",
    "# Calculates the average difference between the predicted\n",
    "# price and the actual price\n",
    "avg_diff = sum(validation_result['Difference']) / len(validation_result['Difference'])\n",
    "\n",
    "print('Average Difference between the predicted')\n",
    "print('price and the acutal Price:                       ', avg_diff)"
   ]
  },
  {
   "cell_type": "code",
   "execution_count": 22,
   "id": "deaa1d8d",
   "metadata": {},
   "outputs": [
    {
     "name": "stdout",
     "output_type": "stream",
     "text": [
      "Coefficient of Determination on training:  0.9199773264059619\n",
      "Mean Squared Error:                        1877.7538960779648\n",
      "Root Mean Squared Error:                   43.33305777438242\n",
      "Mean Absolute Error:                       34.44972823008095\n",
      "Adjusted R2 Squared:                       0.8999716580074524\n",
      "Mean Absolute Percentage Error:            0.0075649261190462985\n"
     ]
    }
   ],
   "source": [
    "# Calculates the mean absolute error of our model\n",
    "val_meanAbError = mean_absolute_error(validation_actual_output, validation_Y)\n",
    "\n",
    "val_meanPerAbError = mean_absolute_percentage_error(validation_actual_output, validation_Y)\n",
    "\n",
    "# Calculates the mean squared error of our model\n",
    "val_meanSqError = mean_squared_error(validation_actual_output, validation_Y)\n",
    "\n",
    "# Calculates the R2 score of our model\n",
    "val_r2 = r2_score(validation_actual_output, validation_Y) # R2 Score\n",
    "\n",
    "# Calculates the adjusted R2 score of our  model\n",
    "n = len(validation_actual_output)        # Number of data points in our testing set\n",
    "p = 3                                    # Number of independent variables used in model\n",
    "val_adjusted_r2 = 1 - ((1-val_r2) * (n-1) / (n-p-1))\n",
    "\n",
    "print('Coefficient of Determination on training: ', val_r2)\n",
    "print('Mean Squared Error:                       ', val_meanSqError)\n",
    "print('Root Mean Squared Error:                  ', np.sqrt(val_meanSqError))\n",
    "print('Mean Absolute Error:                      ', val_meanAbError)\n",
    "print('Adjusted R2 Squared:                      ', val_adjusted_r2)\n",
    "\n",
    "print('Mean Absolute Percentage Error:           ', val_meanPerAbError)"
   ]
  },
  {
   "cell_type": "code",
   "execution_count": 24,
   "id": "a3e2853c",
   "metadata": {},
   "outputs": [
    {
     "data": {
      "image/png": "[encoded data removed]",
      "text/plain": [
       "<Figure size 432x288 with 1 Axes>"
      ]
     },
     "metadata": {
      "needs_background": "light"
     },
     "output_type": "display_data"
    }
   ],
   "source": [
    "# Plotting the residual error\n",
    "# Plotting the rediual errors in the validation data\n",
    "plt.scatter(regressor.predict(validating_set), regressor.predict(validating_set) - validation_actual_output, color = 'red', s = 10, label = 'Training data')\n",
    "\n",
    "# Plotting line for zero residual error\n",
    "plt.hlines(y = 0, xmin = 4000, xmax = 5000, linewidth = 2, linestyles = '--', color = 'gray')\n",
    "\n",
    "plt.legend(loc = 'upper right')\n",
    "plt.title('Residual errors')\n",
    "plt.xlabel('Price of Ethereum')\n",
    "plt.ylabel('Residuals')\n",
    "plt.grid(True)\n",
    "\n",
    "plt.show()"
   ]
  },
  {
   "cell_type": "markdown",
   "id": "0aab0acd",
   "metadata": {},
   "source": [
    "Which isn't good, do better model.\n",
    "\n",
    "Don't put your money into this sort of thing.\n",
    "\n",
    "Maybe would have faired better if it was trained on less data or more current data"
   ]
  },
  {
   "cell_type": "markdown",
   "id": "ca3ebfef",
   "metadata": {},
   "source": [
    "Precision need of gives us weird results. "
   ]
  },
  {
   "cell_type": "markdown",
   "id": "2661c1a0",
   "metadata": {},
   "source": [
    "When test the model with a validation set, things to note:\n",
    "- Doesn't perform as well as we taught possibly due to the large range of prices in the original dataset in comparison to the to the validation.\n",
    "- A 97% accurate model performs a lot different when the Ethereum price is over $\\$3000$ as an error means a larger value. This could be too big of an error for a person to trust the model with their hard-earned money. On the 6th of November, the models predicted values was over $\\$100$ lower then the actual value which is a significant loss if you were to use the model when investing."
   ]
  },
  {
   "cell_type": "markdown",
   "id": "a603e664",
   "metadata": {},
   "source": [
    "---------------------------------------------------------------------"
   ]
  },
  {
   "cell_type": "markdown",
   "id": "f2f40f35",
   "metadata": {},
   "source": [
    "### To conclude"
   ]
  },
  {
   "cell_type": "markdown",
   "id": "8c2746a5",
   "metadata": {},
   "source": [
    "The model suggests that the 'high' price, 'low' price, and opeining price are indicative of the closing price."
   ]
  },
  {
   "cell_type": "markdown",
   "id": "332b87a1",
   "metadata": {},
   "source": [
    "The purpose of the project was to\n",
    "\n",
    "as all the data is released at the same time. \n",
    "\n",
    "We did not find a big difference when using adjusted $R^2$"
   ]
  },
  {
   "cell_type": "markdown",
   "id": "25ed0f57",
   "metadata": {},
   "source": [
    "Possible improvements:\n",
    "- Possibly the model would have performed better if it was trained on less quantity of data colleeted at recent date."
   ]
  }
 ],
 "metadata": {
  "kernelspec": {
   "display_name": "Python 3",
   "language": "python",
   "name": "python3"
  },
  "language_info": {
   "codemirror_mode": {
    "name": "ipython",
    "version": 3
   },
   "file_extension": ".py",
   "mimetype": "text/x-python",
   "name": "python",
   "nbconvert_exporter": "python",
   "pygments_lexer": "ipython3",
   "version": "3.8.8"
  }
 },
 "nbformat": 4,
 "nbformat_minor": 5
}
