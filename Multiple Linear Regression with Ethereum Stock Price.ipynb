{
 "cells": [
  {
   "cell_type": "markdown",
   "id": "d83356e0",
   "metadata": {},
   "source": [
    "# Multiple Linear Regression with Ethereum Stock Price"
   ]
  },
  {
   "cell_type": "code",
   "execution_count": 1,
   "id": "bda8e2ef",
   "metadata": {},
   "outputs": [
    {
     "data": {
      "text/html": [
       "<div>\n",
       "<style scoped>\n",
       "    .dataframe tbody tr th:only-of-type {\n",
       "        vertical-align: middle;\n",
       "    }\n",
       "\n",
       "    .dataframe tbody tr th {\n",
       "        vertical-align: top;\n",
       "    }\n",
       "\n",
       "    .dataframe thead th {\n",
       "        text-align: right;\n",
       "    }\n",
       "</style>\n",
       "<table border=\"1\" class=\"dataframe\">\n",
       "  <thead>\n",
       "    <tr style=\"text-align: right;\">\n",
       "      <th></th>\n",
       "      <th>Date</th>\n",
       "      <th>Price</th>\n",
       "      <th>Open</th>\n",
       "      <th>High</th>\n",
       "      <th>Low</th>\n",
       "      <th>Vol.</th>\n",
       "      <th>Change %</th>\n",
       "    </tr>\n",
       "    <tr>\n",
       "      <th>SNo</th>\n",
       "      <th></th>\n",
       "      <th></th>\n",
       "      <th></th>\n",
       "      <th></th>\n",
       "      <th></th>\n",
       "      <th></th>\n",
       "      <th></th>\n",
       "    </tr>\n",
       "  </thead>\n",
       "  <tbody>\n",
       "    <tr>\n",
       "      <th>1</th>\n",
       "      <td>2016-03-10</td>\n",
       "      <td>11.75</td>\n",
       "      <td>11.20</td>\n",
       "      <td>11.85</td>\n",
       "      <td>11.07</td>\n",
       "      <td>0.0</td>\n",
       "      <td>4.91</td>\n",
       "    </tr>\n",
       "    <tr>\n",
       "      <th>2</th>\n",
       "      <td>2016-03-11</td>\n",
       "      <td>11.95</td>\n",
       "      <td>11.75</td>\n",
       "      <td>11.95</td>\n",
       "      <td>11.75</td>\n",
       "      <td>180.0</td>\n",
       "      <td>1.70</td>\n",
       "    </tr>\n",
       "    <tr>\n",
       "      <th>3</th>\n",
       "      <td>2016-03-12</td>\n",
       "      <td>12.92</td>\n",
       "      <td>11.95</td>\n",
       "      <td>13.45</td>\n",
       "      <td>11.95</td>\n",
       "      <td>830.0</td>\n",
       "      <td>8.12</td>\n",
       "    </tr>\n",
       "    <tr>\n",
       "      <th>4</th>\n",
       "      <td>2016-03-13</td>\n",
       "      <td>15.07</td>\n",
       "      <td>12.92</td>\n",
       "      <td>15.07</td>\n",
       "      <td>12.92</td>\n",
       "      <td>1300.0</td>\n",
       "      <td>16.64</td>\n",
       "    </tr>\n",
       "    <tr>\n",
       "      <th>5</th>\n",
       "      <td>2016-03-14</td>\n",
       "      <td>12.50</td>\n",
       "      <td>15.07</td>\n",
       "      <td>15.07</td>\n",
       "      <td>11.40</td>\n",
       "      <td>92180.0</td>\n",
       "      <td>-17.05</td>\n",
       "    </tr>\n",
       "  </tbody>\n",
       "</table>\n",
       "</div>"
      ],
      "text/plain": [
       "           Date  Price   Open   High    Low     Vol.  Change %\n",
       "SNo                                                           \n",
       "1    2016-03-10  11.75  11.20  11.85  11.07      0.0      4.91\n",
       "2    2016-03-11  11.95  11.75  11.95  11.75    180.0      1.70\n",
       "3    2016-03-12  12.92  11.95  13.45  11.95    830.0      8.12\n",
       "4    2016-03-13  15.07  12.92  15.07  12.92   1300.0     16.64\n",
       "5    2016-03-14  12.50  15.07  15.07  11.40  92180.0    -17.05"
      ]
     },
     "execution_count": 1,
     "metadata": {},
     "output_type": "execute_result"
    }
   ],
   "source": [
    "import pandas as pd\n",
    "\n",
    "# Loads the 'Ethereum_Price_History_USD.csv' file as a DataFrame, using the \n",
    "# 'SNo' as the index column as the \n",
    "Eth_Price_Data = pd.read_csv('Ethereum_Price_History_USD.csv', index_col='SNo')\n",
    "\n",
    "# Show us the first 5 Rows in the 'eth_price_data' DataFrame\n",
    "Eth_Price_Data.head()"
   ]
  },
  {
   "cell_type": "code",
   "execution_count": 2,
   "id": "c5e07361",
   "metadata": {},
   "outputs": [
    {
     "name": "stdout",
     "output_type": "stream",
     "text": [
      "Number of the days of Ethereum prices contained in the dataset:  1994 days\n"
     ]
    }
   ],
   "source": [
    "print('Number of the days of Ethereum prices contained in the dataset: ', len(Eth_Price_Data['Date']), 'days' )"
   ]
  },
  {
   "cell_type": "markdown",
   "id": "c98efbbb",
   "metadata": {},
   "source": [
    "## Plotting the dataset"
   ]
  },
  {
   "cell_type": "code",
   "execution_count": 5,
   "id": "112f4e7e",
   "metadata": {},
   "outputs": [
    {
     "data": {
      "image/png": "[encoded data removed]",
      "text/plain": [
       "<Figure size 432x288 with 1 Axes>"
      ]
     },
     "metadata": {
      "needs_background": "light"
     },
     "output_type": "display_data"
    }
   ],
   "source": [
    "from matplotlib import pyplot as plt\n",
    "\n",
    "\n",
    "# Creates a new DataFrame for plotting the Ethereum price history purposes \n",
    "# only containing only the 'Date' and 'Price' Variables as it doesn't\n",
    "# affect the original dataset\n",
    "Plot_Eth_Price = pd.DataFrame(Eth_Price_Data, columns = ['Date', 'Price'])\n",
    "\n",
    "# Creates a Variable 'Plot_Eth_Date' which contains the 'Date' variable only\n",
    "# We do this to edit the dates without changing the rest of the dataset\n",
    "Plot_Eth_Date = Plot_Eth_Price['Date']\n",
    "\n",
    "# Converts the content in the 'Date' variable to datetime\n",
    "# This is needed to \n",
    "Plot_Eth_Date = pd.to_datetime(Plot_Eth_Date)\n",
    "\n",
    "plt.figure('Ethereum Price History')\n",
    "plt.title('Ethereum Price History on a daily basis')\n",
    "plt.xlabel('Date')\n",
    "plt.ylabel('Ethereum Price in U.S. Dollers')\n",
    "plt.grid(True)\n",
    "plt.plot(Plot_Eth_Date, Plot_Eth_Price['Price'], color = 'red')\n",
    "plt.gcf().autofmt_xdate()\n",
    "plt.savefig('Ethereum_Price_History.png')\n",
    "\n",
    "plt.show()"
   ]
  },
  {
   "cell_type": "code",
   "execution_count": null,
   "id": "db6d1cd7",
   "metadata": {},
   "outputs": [],
   "source": []
  }
 ],
 "metadata": {
  "kernelspec": {
   "display_name": "Python 3",
   "language": "python",
   "name": "python3"
  },
  "language_info": {
   "codemirror_mode": {
    "name": "ipython",
    "version": 3
   },
   "file_extension": ".py",
   "mimetype": "text/x-python",
   "name": "python",
   "nbconvert_exporter": "python",
   "pygments_lexer": "ipython3",
   "version": "3.8.8"
  }
 },
 "nbformat": 4,
 "nbformat_minor": 5
}
